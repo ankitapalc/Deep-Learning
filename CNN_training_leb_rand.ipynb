{
  "nbformat": 4,
  "nbformat_minor": 0,
  "metadata": {
    "colab": {
      "name": "CNN.ipynb",
      "provenance": [],
      "collapsed_sections": []
    },
    "kernelspec": {
      "name": "python3",
      "display_name": "Python 3"
    }
  },
  "cells": [
    {
      "cell_type": "code",
      "metadata": {
        "id": "dCRhaJOZRngI",
        "colab_type": "code",
        "outputId": "1427772c-d42a-4143-e4d5-d570442271e0",
        "colab": {
          "base_uri": "https://localhost:8080/",
          "height": 63
        }
      },
      "source": [
        "%matplotlib inline\n",
        "import matplotlib.pyplot as plt\n",
        "import tensorflow as tf\n",
        "import numpy as np\n",
        "import math\n",
        "tf.logging.set_verbosity(tf.logging.ERROR)"
      ],
      "execution_count": 1,
      "outputs": [
        {
          "output_type": "display_data",
          "data": {
            "text/html": [
              "<p style=\"color: red;\">\n",
              "The default version of TensorFlow in Colab will soon switch to TensorFlow 2.x.<br>\n",
              "We recommend you <a href=\"https://www.tensorflow.org/guide/migrate\" target=\"_blank\">upgrade</a> now \n",
              "or ensure your notebook will continue to use TensorFlow 1.x via the <code>%tensorflow_version 1.x</code> magic:\n",
              "<a href=\"https://colab.research.google.com/notebooks/tensorflow_version.ipynb\" target=\"_blank\">more info</a>.</p>\n"
            ],
            "text/plain": [
              "<IPython.core.display.HTML object>"
            ]
          },
          "metadata": {
            "tags": []
          }
        }
      ]
    },
    {
      "cell_type": "code",
      "metadata": {
        "id": "v8JWnlpVBmdo",
        "colab_type": "code",
        "colab": {}
      },
      "source": [
        ""
      ],
      "execution_count": 0,
      "outputs": []
    },
    {
      "cell_type": "code",
      "metadata": {
        "id": "yNf-7f9ZRq4D",
        "colab_type": "code",
        "outputId": "70bb3aad-b470-488d-def6-e417f673d29a",
        "colab": {
          "base_uri": "https://localhost:8080/",
          "height": 155
        }
      },
      "source": [
        "from tensorflow.examples.tutorials.mnist import input_data\n",
        "data = input_data.read_data_sets('data/MNIST/', one_hot=True)"
      ],
      "execution_count": 2,
      "outputs": [
        {
          "output_type": "stream",
          "text": [
            "Successfully downloaded train-images-idx3-ubyte.gz 9912422 bytes.\n",
            "Extracting data/MNIST/train-images-idx3-ubyte.gz\n",
            "Successfully downloaded train-labels-idx1-ubyte.gz 28881 bytes.\n",
            "Extracting data/MNIST/train-labels-idx1-ubyte.gz\n",
            "Successfully downloaded t10k-images-idx3-ubyte.gz 1648877 bytes.\n",
            "Extracting data/MNIST/t10k-images-idx3-ubyte.gz\n",
            "Successfully downloaded t10k-labels-idx1-ubyte.gz 4542 bytes.\n",
            "Extracting data/MNIST/t10k-labels-idx1-ubyte.gz\n"
          ],
          "name": "stdout"
        }
      ]
    },
    {
      "cell_type": "code",
      "metadata": {
        "id": "nNTAlytJRw9v",
        "colab_type": "code",
        "outputId": "5162e073-8314-46b5-96b3-0a277dbdd5df",
        "colab": {
          "base_uri": "https://localhost:8080/",
          "height": 86
        }
      },
      "source": [
        "np.random.shuffle(data.train.labels)\n",
        "print(\"Size of:\")\n",
        "print(\"- Training-set:\\t\\t{}\".format(len(data.train.labels)))\n",
        "print(\"- Test-set:\\t\\t{}\".format(len(data.test.labels)))\n",
        "print(\"- Validation-set:\\t{}\".format(len(data.validation.labels)))"
      ],
      "execution_count": 4,
      "outputs": [
        {
          "output_type": "stream",
          "text": [
            "Size of:\n",
            "- Training-set:\t\t55000\n",
            "- Test-set:\t\t10000\n",
            "- Validation-set:\t5000\n"
          ],
          "name": "stdout"
        }
      ]
    },
    {
      "cell_type": "code",
      "metadata": {
        "id": "OmPD4hIoRzYJ",
        "colab_type": "code",
        "colab": {}
      },
      "source": [
        "data.test.cls = np.argmax(data.test.labels, axis=1)"
      ],
      "execution_count": 0,
      "outputs": []
    },
    {
      "cell_type": "code",
      "metadata": {
        "id": "mg3wD2G5R1lM",
        "colab_type": "code",
        "colab": {}
      },
      "source": [
        "img_size = 28\n",
        "img_size_flat = img_size * img_size\n",
        "img_shape = (img_size, img_size)\n",
        "num_channels = 1\n",
        "num_classes = 10"
      ],
      "execution_count": 0,
      "outputs": []
    },
    {
      "cell_type": "code",
      "metadata": {
        "id": "C7QfhGZMR529",
        "colab_type": "code",
        "colab": {}
      },
      "source": [
        "def plot_images(images, cls_true, cls_pred=None):\n",
        "    assert len(images) == len(cls_true) == 9\n",
        "    \n",
        "    fig, axes = plt.subplots(3, 3)\n",
        "    fig.subplots_adjust(hspace=0.3, wspace=0.3)\n",
        "\n",
        "    for i, ax in enumerate(axes.flat):\n",
        "        ax.imshow(images[i].reshape(img_shape), cmap='binary')\n",
        "        if cls_pred is None:\n",
        "            xlabel = \"True: {0}\".format(cls_true[i])\n",
        "        else:\n",
        "            xlabel = \"True: {0}, Pred: {1}\".format(cls_true[i], cls_pred[i])\n",
        "\n",
        "        ax.set_xlabel(xlabel)\n",
        "        ax.set_xticks([])\n",
        "        ax.set_yticks([])\n",
        "    plt.show()"
      ],
      "execution_count": 0,
      "outputs": []
    },
    {
      "cell_type": "code",
      "metadata": {
        "id": "hsJHUcA2R8N-",
        "colab_type": "code",
        "outputId": "f133138d-f763-4caa-f0ac-64d88990eaf0",
        "colab": {
          "base_uri": "https://localhost:8080/",
          "height": 262
        }
      },
      "source": [
        "images = data.test.images[0:9]\n",
        "cls_true = data.test.cls[0:9]\n",
        "plot_images(images=images, cls_true=cls_true)"
      ],
      "execution_count": 8,
      "outputs": [
        {
          "output_type": "display_data",
          "data": {
            "image/png": "[encoded data removed]",
            "text/plain": [
              "<Figure size 432x288 with 9 Axes>"
            ]
          },
          "metadata": {
            "tags": []
          }
        }
      ]
    },
    {
      "cell_type": "code",
      "metadata": {
        "id": "gBgAZuyhR-O_",
        "colab_type": "code",
        "colab": {}
      },
      "source": [
        "x = tf.placeholder(tf.float32, shape=[None, img_size_flat], name='x')\n",
        "y = tf.placeholder('float')"
      ],
      "execution_count": 0,
      "outputs": []
    },
    {
      "cell_type": "code",
      "metadata": {
        "id": "D6C5DnEWNziT",
        "colab_type": "code",
        "colab": {}
      },
      "source": [
        "x1 = tf.placeholder(tf.float32, shape=[None, img_size_flat], name='x1')\n",
        "y1 = tf.placeholder('float')"
      ],
      "execution_count": 0,
      "outputs": []
    },
    {
      "cell_type": "code",
      "metadata": {
        "id": "xRxlkgUHNzxQ",
        "colab_type": "code",
        "colab": {}
      },
      "source": [
        "x2 = tf.placeholder(tf.float32, shape=[None, img_size_flat], name='x2')\n",
        "y2 = tf.placeholder('float')"
      ],
      "execution_count": 0,
      "outputs": []
    },
    {
      "cell_type": "code",
      "metadata": {
        "id": "je9zKdU0DS5g",
        "colab_type": "code",
        "colab": {}
      },
      "source": [
        "x_t = tf.placeholder(tf.float32, shape=[None, img_size_flat], name='x_t')\n",
        "y_t = tf.placeholder('float')"
      ],
      "execution_count": 0,
      "outputs": []
    },
    {
      "cell_type": "code",
      "metadata": {
        "id": "QCj7C2RISAo5",
        "colab_type": "code",
        "colab": {}
      },
      "source": [
        "x_image = tf.reshape(x, [-1, img_size, img_size, num_channels])\n",
        "x_image1 = tf.reshape(x1, [-1, img_size, img_size, num_channels])\n",
        "x_image2 = tf.reshape(x2, [-1, img_size, img_size, num_channels])"
      ],
      "execution_count": 0,
      "outputs": []
    },
    {
      "cell_type": "code",
      "metadata": {
        "id": "vvbr2QIQDf6e",
        "colab_type": "code",
        "colab": {}
      },
      "source": [
        "x_image_t = tf.reshape(x_t, [-1, img_size, img_size, num_channels])"
      ],
      "execution_count": 0,
      "outputs": []
    },
    {
      "cell_type": "code",
      "metadata": {
        "id": "_HfVxB1bSHVK",
        "colab_type": "code",
        "colab": {}
      },
      "source": [
        "y_true = tf.placeholder(tf.float32, shape=[None, num_classes], name='y_true')\n",
        "y_true1 = tf.placeholder(tf.float32, shape=[None, num_classes], name='y_true1')\n",
        "y_true2= tf.placeholder(tf.float32, shape=[None, num_classes], name='y_true2')"
      ],
      "execution_count": 0,
      "outputs": []
    },
    {
      "cell_type": "code",
      "metadata": {
        "id": "rmo1F58oDkH8",
        "colab_type": "code",
        "colab": {}
      },
      "source": [
        "y_true_t= tf.placeholder(tf.float32, shape=[None, num_classes], name='y_true_t')"
      ],
      "execution_count": 0,
      "outputs": []
    },
    {
      "cell_type": "code",
      "metadata": {
        "id": "w5WZwsVcSJ3w",
        "colab_type": "code",
        "colab": {}
      },
      "source": [
        "y_true_cls = tf.argmax(y_true, dimension=1)\n",
        "y_true_cls1 = tf.argmax(y_true1, dimension=1)\n",
        "y_true_cls2 = tf.argmax(y_true2, dimension=1)"
      ],
      "execution_count": 0,
      "outputs": []
    },
    {
      "cell_type": "code",
      "metadata": {
        "id": "1g8O6PLmDY_B",
        "colab_type": "code",
        "colab": {}
      },
      "source": [
        "y_true_cls_t = tf.argmax(y_true_t, dimension=1)\n"
      ],
      "execution_count": 0,
      "outputs": []
    },
    {
      "cell_type": "code",
      "metadata": {
        "id": "8buBROmcSL4Y",
        "colab_type": "code",
        "outputId": "fb50068f-ce5d-42cb-c6a1-e34a427ed8e2",
        "colab": {
          "base_uri": "https://localhost:8080/",
          "height": 34
        }
      },
      "source": [
        "# layer_conv1\n",
        "net = tf.layers.conv2d(inputs=x_image, name='layer_conv1', padding='same',filters=25, kernel_size=5, activation=tf.nn.relu)\n",
        "net = tf.layers.max_pooling2d(inputs=net, pool_size=2, strides=2)\n",
        "# layer_conv2\n",
        "net = tf.layers.conv2d(inputs=net, name='layer_conv2', padding='same',filters=36, kernel_size=5, activation=tf.nn.relu)\n",
        "net = tf.layers.max_pooling2d(inputs=net, pool_size=2, strides=2)\n",
        "print(net)"
      ],
      "execution_count": 19,
      "outputs": [
        {
          "output_type": "stream",
          "text": [
            "Tensor(\"max_pooling2d_1/MaxPool:0\", shape=(?, 7, 7, 36), dtype=float32)\n"
          ],
          "name": "stdout"
        }
      ]
    },
    {
      "cell_type": "code",
      "metadata": {
        "id": "9hPaKx2nOfhe",
        "colab_type": "code",
        "outputId": "a5254bc9-953b-481d-f814-01ce8a30f747",
        "colab": {
          "base_uri": "https://localhost:8080/",
          "height": 34
        }
      },
      "source": [
        "# layer_conv1\n",
        "net1 = tf.layers.conv2d(inputs=x_image1, name='layer_conv11', padding='same',filters=49, kernel_size=5, activation=tf.nn.relu)\n",
        "net1 = tf.layers.max_pooling2d(inputs=net1, pool_size=2, strides=2)\n",
        "# layer_conv2\n",
        "net1 = tf.layers.conv2d(inputs=net1, name='layer_conv21', padding='same',filters=64, kernel_size=5, activation=tf.nn.relu)\n",
        "net1 = tf.layers.max_pooling2d(inputs=net1, pool_size=2, strides=2)\n",
        "print(net1)"
      ],
      "execution_count": 20,
      "outputs": [
        {
          "output_type": "stream",
          "text": [
            "Tensor(\"max_pooling2d_3/MaxPool:0\", shape=(?, 7, 7, 64), dtype=float32)\n"
          ],
          "name": "stdout"
        }
      ]
    },
    {
      "cell_type": "code",
      "metadata": {
        "id": "d7OV_Ak8Of9G",
        "colab_type": "code",
        "outputId": "c3039a12-75ca-432e-cc76-076a2446e0f6",
        "colab": {
          "base_uri": "https://localhost:8080/",
          "height": 34
        }
      },
      "source": [
        "# layer_conv1\n",
        "net2 = tf.layers.conv2d(inputs=x_image2, name='layer_conv12', padding='same',filters=81, kernel_size=5, activation=tf.nn.relu)\n",
        "net2 = tf.layers.max_pooling2d(inputs=net2, pool_size=2, strides=2)\n",
        "# layer_conv2\n",
        "net2 = tf.layers.conv2d(inputs=net2, name='layer_conv22', padding='same',filters=100, kernel_size=5, activation=tf.nn.relu)\n",
        "net2 = tf.layers.max_pooling2d(inputs=net2, pool_size=2, strides=2)\n",
        "print(net2)"
      ],
      "execution_count": 21,
      "outputs": [
        {
          "output_type": "stream",
          "text": [
            "Tensor(\"max_pooling2d_5/MaxPool:0\", shape=(?, 7, 7, 100), dtype=float32)\n"
          ],
          "name": "stdout"
        }
      ]
    },
    {
      "cell_type": "code",
      "metadata": {
        "id": "h5Pot5CCSN8A",
        "colab_type": "code",
        "outputId": "d8598b87-1120-415c-f406-1bb474b2bc65",
        "colab": {
          "base_uri": "https://localhost:8080/",
          "height": 34
        }
      },
      "source": [
        "net = tf.layers.flatten(net)\n",
        "print(net)"
      ],
      "execution_count": 22,
      "outputs": [
        {
          "output_type": "stream",
          "text": [
            "Tensor(\"flatten/Reshape:0\", shape=(?, 1764), dtype=float32)\n"
          ],
          "name": "stdout"
        }
      ]
    },
    {
      "cell_type": "code",
      "metadata": {
        "id": "alcNRP5LO9g8",
        "colab_type": "code",
        "outputId": "76f608a6-83f9-4338-aa96-f732d66910fb",
        "colab": {
          "base_uri": "https://localhost:8080/",
          "height": 34
        }
      },
      "source": [
        "net1 = tf.layers.flatten(net1)\n",
        "print(net1)"
      ],
      "execution_count": 23,
      "outputs": [
        {
          "output_type": "stream",
          "text": [
            "Tensor(\"flatten_1/Reshape:0\", shape=(?, 3136), dtype=float32)\n"
          ],
          "name": "stdout"
        }
      ]
    },
    {
      "cell_type": "code",
      "metadata": {
        "id": "0N4zDiCMO9kq",
        "colab_type": "code",
        "outputId": "9ee3ac52-2226-42ce-9e99-071bc0f828bf",
        "colab": {
          "base_uri": "https://localhost:8080/",
          "height": 34
        }
      },
      "source": [
        "net2 = tf.layers.flatten(net2)\n",
        "print(net2)"
      ],
      "execution_count": 24,
      "outputs": [
        {
          "output_type": "stream",
          "text": [
            "Tensor(\"flatten_2/Reshape:0\", shape=(?, 4900), dtype=float32)\n"
          ],
          "name": "stdout"
        }
      ]
    },
    {
      "cell_type": "code",
      "metadata": {
        "id": "9Y8NmOkHSQ_1",
        "colab_type": "code",
        "outputId": "2235c8ae-42a3-4b04-c955-bf0036efdb24",
        "colab": {
          "base_uri": "https://localhost:8080/",
          "height": 34
        }
      },
      "source": [
        "net = tf.layers.dense(inputs=net, name='layer_fc1',units=128, activation=tf.nn.relu)\n",
        "logits = tf.layers.dense(inputs=net, name='layer_fc_out',units=num_classes, activation=None)\n",
        "print(logits)"
      ],
      "execution_count": 25,
      "outputs": [
        {
          "output_type": "stream",
          "text": [
            "Tensor(\"layer_fc_out/BiasAdd:0\", shape=(?, 10), dtype=float32)\n"
          ],
          "name": "stdout"
        }
      ]
    },
    {
      "cell_type": "code",
      "metadata": {
        "id": "EP_s_5z5PFPn",
        "colab_type": "code",
        "outputId": "301e07fe-5091-4bea-8f50-5af0d30e3401",
        "colab": {
          "base_uri": "https://localhost:8080/",
          "height": 34
        }
      },
      "source": [
        "net1 = tf.layers.dense(inputs=net1, name='layer_fc11',units=128, activation=tf.nn.relu)\n",
        "logits1 = tf.layers.dense(inputs=net1, name='layer_fc_out1',units=num_classes, activation=None)\n",
        "print(logits1)"
      ],
      "execution_count": 26,
      "outputs": [
        {
          "output_type": "stream",
          "text": [
            "Tensor(\"layer_fc_out1/BiasAdd:0\", shape=(?, 10), dtype=float32)\n"
          ],
          "name": "stdout"
        }
      ]
    },
    {
      "cell_type": "code",
      "metadata": {
        "id": "tICaCGpaPFYx",
        "colab_type": "code",
        "outputId": "385c59c8-3652-463e-e82f-beec2876017f",
        "colab": {
          "base_uri": "https://localhost:8080/",
          "height": 34
        }
      },
      "source": [
        "net2 = tf.layers.dense(inputs=net2, name='layer_fc12',units=128, activation=tf.nn.relu)\n",
        "logits2 = tf.layers.dense(inputs=net2, name='layer_fc_out2',units=num_classes, activation=None)\n",
        "print(logits2)"
      ],
      "execution_count": 27,
      "outputs": [
        {
          "output_type": "stream",
          "text": [
            "Tensor(\"layer_fc_out2/BiasAdd:0\", shape=(?, 10), dtype=float32)\n"
          ],
          "name": "stdout"
        }
      ]
    },
    {
      "cell_type": "code",
      "metadata": {
        "id": "mgDjrkCgSUgX",
        "colab_type": "code",
        "colab": {}
      },
      "source": [
        "y_pred = tf.nn.softmax(logits=logits)\n",
        "y_pred_cls = tf.argmax(y_pred, dimension=1)"
      ],
      "execution_count": 0,
      "outputs": []
    },
    {
      "cell_type": "code",
      "metadata": {
        "id": "Ovh3M5g-PTHU",
        "colab_type": "code",
        "colab": {}
      },
      "source": [
        "y_pred1 = tf.nn.softmax(logits=logits1)\n",
        "y_pred_cls1 = tf.argmax(y_pred1, dimension=1)"
      ],
      "execution_count": 0,
      "outputs": []
    },
    {
      "cell_type": "code",
      "metadata": {
        "id": "zyc9PrCgPTLH",
        "colab_type": "code",
        "colab": {}
      },
      "source": [
        "y_pred2 = tf.nn.softmax(logits=logits2)\n",
        "y_pred_cls2 = tf.argmax(y_pred2, dimension=1)"
      ],
      "execution_count": 0,
      "outputs": []
    },
    {
      "cell_type": "code",
      "metadata": {
        "id": "IoiuL1dnSXKx",
        "colab_type": "code",
        "colab": {}
      },
      "source": [
        "cross_entropy = tf.nn.softmax_cross_entropy_with_logits(labels=y_true, logits=logits)"
      ],
      "execution_count": 0,
      "outputs": []
    },
    {
      "cell_type": "code",
      "metadata": {
        "id": "enofxC0lPbs5",
        "colab_type": "code",
        "colab": {}
      },
      "source": [
        "cross_entropy1 = tf.nn.softmax_cross_entropy_with_logits(labels=y_true1, logits=logits1)"
      ],
      "execution_count": 0,
      "outputs": []
    },
    {
      "cell_type": "code",
      "metadata": {
        "id": "k7CPtgwCPb7U",
        "colab_type": "code",
        "colab": {}
      },
      "source": [
        "cross_entropy2 = tf.nn.softmax_cross_entropy_with_logits(labels=y_true2, logits=logits2)"
      ],
      "execution_count": 0,
      "outputs": []
    },
    {
      "cell_type": "code",
      "metadata": {
        "id": "mBtYSPUUSZN5",
        "colab_type": "code",
        "outputId": "3f27d41e-3948-4a83-9a19-77a0ec905a31",
        "colab": {
          "base_uri": "https://localhost:8080/",
          "height": 34
        }
      },
      "source": [
        "loss = tf.reduce_mean(cross_entropy)\n",
        "loss"
      ],
      "execution_count": 34,
      "outputs": [
        {
          "output_type": "execute_result",
          "data": {
            "text/plain": [
              "<tf.Tensor 'Mean:0' shape=() dtype=float32>"
            ]
          },
          "metadata": {
            "tags": []
          },
          "execution_count": 34
        }
      ]
    },
    {
      "cell_type": "code",
      "metadata": {
        "id": "dcGv_U2hPjzm",
        "colab_type": "code",
        "outputId": "371857cf-5962-4ef2-bb99-93078e35ecde",
        "colab": {
          "base_uri": "https://localhost:8080/",
          "height": 34
        }
      },
      "source": [
        "loss1 = tf.reduce_mean(cross_entropy1)\n",
        "loss1"
      ],
      "execution_count": 35,
      "outputs": [
        {
          "output_type": "execute_result",
          "data": {
            "text/plain": [
              "<tf.Tensor 'Mean_1:0' shape=() dtype=float32>"
            ]
          },
          "metadata": {
            "tags": []
          },
          "execution_count": 35
        }
      ]
    },
    {
      "cell_type": "code",
      "metadata": {
        "id": "c0qpyfrJPj24",
        "colab_type": "code",
        "outputId": "7f501798-d948-4f81-a8b0-8316286853a7",
        "colab": {
          "base_uri": "https://localhost:8080/",
          "height": 34
        }
      },
      "source": [
        "loss2 = tf.reduce_mean(cross_entropy2)\n",
        "loss2"
      ],
      "execution_count": 36,
      "outputs": [
        {
          "output_type": "execute_result",
          "data": {
            "text/plain": [
              "<tf.Tensor 'Mean_2:0' shape=() dtype=float32>"
            ]
          },
          "metadata": {
            "tags": []
          },
          "execution_count": 36
        }
      ]
    },
    {
      "cell_type": "code",
      "metadata": {
        "id": "DTnLAN68SbNt",
        "colab_type": "code",
        "colab": {}
      },
      "source": [
        "opt = tf.train.AdamOptimizer(learning_rate=1e-4)\n",
        "optimizer = opt.minimize(loss)"
      ],
      "execution_count": 0,
      "outputs": []
    },
    {
      "cell_type": "code",
      "metadata": {
        "id": "knR6S-ipPq5_",
        "colab_type": "code",
        "colab": {}
      },
      "source": [
        "opt1 = tf.train.AdamOptimizer(learning_rate=1e-4)\n",
        "optimizer1 = opt1.minimize(loss1)"
      ],
      "execution_count": 0,
      "outputs": []
    },
    {
      "cell_type": "code",
      "metadata": {
        "id": "olX0oMFTPq-6",
        "colab_type": "code",
        "colab": {}
      },
      "source": [
        "opt2 = tf.train.AdamOptimizer(learning_rate=1e-4)\n",
        "optimizer2 = opt2.minimize(loss2)"
      ],
      "execution_count": 0,
      "outputs": []
    },
    {
      "cell_type": "code",
      "metadata": {
        "id": "RJeqYdHySdSO",
        "colab_type": "code",
        "colab": {}
      },
      "source": [
        "correct_prediction = tf.equal(y_pred_cls, y_true_cls)\n",
        "accuracy = tf.reduce_mean(tf.cast(correct_prediction, tf.float32))"
      ],
      "execution_count": 0,
      "outputs": []
    },
    {
      "cell_type": "code",
      "metadata": {
        "id": "yOovQ5TUP2hK",
        "colab_type": "code",
        "colab": {}
      },
      "source": [
        "correct_prediction1 = tf.equal(y_pred_cls1, y_true_cls1)\n",
        "accuracy1 = tf.reduce_mean(tf.cast(correct_prediction1, tf.float32))"
      ],
      "execution_count": 0,
      "outputs": []
    },
    {
      "cell_type": "code",
      "metadata": {
        "id": "2-q5UtVEP2lh",
        "colab_type": "code",
        "colab": {}
      },
      "source": [
        "correct_prediction2 = tf.equal(y_pred_cls2, y_true_cls2)\n",
        "accuracy2 = tf.reduce_mean(tf.cast(correct_prediction2, tf.float32))"
      ],
      "execution_count": 0,
      "outputs": []
    },
    {
      "cell_type": "code",
      "metadata": {
        "id": "uUpMHNVmSff1",
        "colab_type": "code",
        "colab": {}
      },
      "source": [
        "trainable_var_list = tf.trainable_variables()"
      ],
      "execution_count": 0,
      "outputs": []
    },
    {
      "cell_type": "code",
      "metadata": {
        "id": "LTgb6QHaSh4X",
        "colab_type": "code",
        "colab": {}
      },
      "source": [
        "def get_weights_variable(layer_name):\n",
        "    with tf.variable_scope(layer_name, reuse=True):\n",
        "        variable = tf.get_variable('kernel')\n",
        "    return variable"
      ],
      "execution_count": 0,
      "outputs": []
    },
    {
      "cell_type": "code",
      "metadata": {
        "id": "kA93ZPs-Sjkw",
        "colab_type": "code",
        "outputId": "d8b52d41-e4ec-408e-9bcb-414b89a4bbe6",
        "colab": {
          "base_uri": "https://localhost:8080/",
          "height": 86
        }
      },
      "source": [
        "weights_conv1 = get_weights_variable(layer_name='layer_conv1')\n",
        "weights_conv2 = get_weights_variable(layer_name='layer_conv2')\n",
        "print(weights_conv1)\n",
        "print(weights_conv2)\n",
        "\n",
        "weights_fc1 = get_weights_variable(layer_name='layer_fc1')\n",
        "weights_fc_out = get_weights_variable(layer_name='layer_fc_out')\n",
        "print(weights_fc1)\n",
        "print(weights_fc_out)"
      ],
      "execution_count": 45,
      "outputs": [
        {
          "output_type": "stream",
          "text": [
            "<tf.Variable 'layer_conv1/kernel:0' shape=(5, 5, 1, 25) dtype=float32_ref>\n",
            "<tf.Variable 'layer_conv2/kernel:0' shape=(5, 5, 25, 36) dtype=float32_ref>\n",
            "<tf.Variable 'layer_fc1/kernel:0' shape=(1764, 128) dtype=float32_ref>\n",
            "<tf.Variable 'layer_fc_out/kernel:0' shape=(128, 10) dtype=float32_ref>\n"
          ],
          "name": "stdout"
        }
      ]
    },
    {
      "cell_type": "code",
      "metadata": {
        "id": "yBTjAMsQQidh",
        "colab_type": "code",
        "outputId": "0cdbdcfa-4826-4e59-ece6-345c0f70a2e6",
        "colab": {
          "base_uri": "https://localhost:8080/",
          "height": 86
        }
      },
      "source": [
        "weights_conv11 = get_weights_variable(layer_name='layer_conv11')\n",
        "weights_conv21 = get_weights_variable(layer_name='layer_conv21')\n",
        "print(weights_conv11)\n",
        "print(weights_conv21)\n",
        "\n",
        "weights_fc11 = get_weights_variable(layer_name='layer_fc11')\n",
        "weights_fc_out1 = get_weights_variable(layer_name='layer_fc_out1')\n",
        "print(weights_fc11)\n",
        "print(weights_fc_out1)"
      ],
      "execution_count": 46,
      "outputs": [
        {
          "output_type": "stream",
          "text": [
            "<tf.Variable 'layer_conv11/kernel:0' shape=(5, 5, 1, 49) dtype=float32_ref>\n",
            "<tf.Variable 'layer_conv21/kernel:0' shape=(5, 5, 49, 64) dtype=float32_ref>\n",
            "<tf.Variable 'layer_fc11/kernel:0' shape=(3136, 128) dtype=float32_ref>\n",
            "<tf.Variable 'layer_fc_out1/kernel:0' shape=(128, 10) dtype=float32_ref>\n"
          ],
          "name": "stdout"
        }
      ]
    },
    {
      "cell_type": "code",
      "metadata": {
        "id": "d0QeOTQdQipf",
        "colab_type": "code",
        "outputId": "a8dde35a-7c24-49b5-c42b-52fa4ad9cbe5",
        "colab": {
          "base_uri": "https://localhost:8080/",
          "height": 86
        }
      },
      "source": [
        "weights_conv12 = get_weights_variable(layer_name='layer_conv12')\n",
        "weights_conv22 = get_weights_variable(layer_name='layer_conv22')\n",
        "print(weights_conv12)\n",
        "print(weights_conv22)\n",
        "\n",
        "weights_fc12= get_weights_variable(layer_name='layer_fc12')\n",
        "weights_fc_out2 = get_weights_variable(layer_name='layer_fc_out2')\n",
        "print(weights_fc12)\n",
        "print(weights_fc_out2)"
      ],
      "execution_count": 47,
      "outputs": [
        {
          "output_type": "stream",
          "text": [
            "<tf.Variable 'layer_conv12/kernel:0' shape=(5, 5, 1, 81) dtype=float32_ref>\n",
            "<tf.Variable 'layer_conv22/kernel:0' shape=(5, 5, 81, 100) dtype=float32_ref>\n",
            "<tf.Variable 'layer_fc12/kernel:0' shape=(4900, 128) dtype=float32_ref>\n",
            "<tf.Variable 'layer_fc_out2/kernel:0' shape=(128, 10) dtype=float32_ref>\n"
          ],
          "name": "stdout"
        }
      ]
    },
    {
      "cell_type": "code",
      "metadata": {
        "id": "LAbiP_IlSmKZ",
        "colab_type": "code",
        "colab": {}
      },
      "source": [
        "session = tf.Session()"
      ],
      "execution_count": 0,
      "outputs": []
    },
    {
      "cell_type": "code",
      "metadata": {
        "id": "cPzYQ68VSod1",
        "colab_type": "code",
        "colab": {}
      },
      "source": [
        "session.run(tf.global_variables_initializer())"
      ],
      "execution_count": 0,
      "outputs": []
    },
    {
      "cell_type": "code",
      "metadata": {
        "id": "XO_gG8fXSq_g",
        "colab_type": "code",
        "outputId": "7c710a1e-579c-4f93-d8d6-7917ea9916c0",
        "colab": {
          "base_uri": "https://localhost:8080/",
          "height": 34
        }
      },
      "source": [
        "grads = tf.gradients(loss, weights_fc_out)[0]\n",
        "print(grads)"
      ],
      "execution_count": 50,
      "outputs": [
        {
          "output_type": "stream",
          "text": [
            "Tensor(\"gradients_3/layer_fc_out/MatMul_grad/MatMul_1:0\", shape=(128, 10), dtype=float32)\n"
          ],
          "name": "stdout"
        }
      ]
    },
    {
      "cell_type": "code",
      "metadata": {
        "id": "w5yfrrdcSstI",
        "colab_type": "code",
        "outputId": "946e3016-d31f-4210-e4b8-d46a36302f55",
        "colab": {
          "base_uri": "https://localhost:8080/",
          "height": 34
        }
      },
      "source": [
        "hessian = tf.reduce_sum(tf.hessians(loss, weights_fc_out)[0], axis = 2)\n",
        "print(hessian)"
      ],
      "execution_count": 51,
      "outputs": [
        {
          "output_type": "stream",
          "text": [
            "Tensor(\"Sum:0\", shape=(128, 10, 10), dtype=float32)\n"
          ],
          "name": "stdout"
        }
      ]
    },
    {
      "cell_type": "code",
      "metadata": {
        "id": "Qg8Qp6_OSulr",
        "colab_type": "code",
        "colab": {}
      },
      "source": [
        "train_batch_size = 100"
      ],
      "execution_count": 0,
      "outputs": []
    },
    {
      "cell_type": "code",
      "metadata": {
        "id": "N_h2g44oSxCD",
        "colab_type": "code",
        "colab": {}
      },
      "source": [
        "# Counter for total number of iterations performed so far.\n",
        "total_iterations = 0\n",
        "los_list = []\n",
        "acc_list = []\n",
        "grad_list = []\n",
        "hess_list = []\n",
        "eig_list = []\n",
        "min_ratio_list = []\n",
        "import numpy as np\n",
        "import math\n",
        "\n",
        "def optimize(num_iterations):\n",
        "    global total_iterations\n",
        "    min_ratio = 0\n",
        "    \n",
        "\n",
        "    for i in range(total_iterations,total_iterations + num_iterations):\n",
        "        x_batch, y_true_batch = data.train.next_batch(train_batch_size)\n",
        "        feed_dict_train = {x: x_batch,y_true: y_true_batch}\n",
        "        session.run(optimizer, feed_dict=feed_dict_train)\n",
        "        \n",
        "        if i % 10 == 0:\n",
        "            eig_list =[]\n",
        "            los, acc = session.run([loss, accuracy], feed_dict=feed_dict_train)            \n",
        "            grads_vals, hess_vals = session.run([grads, hessian], feed_dict=feed_dict_train)\n",
        "            msg = \"Epoch: {0:>6}, Training Loss: {1:>1.6}, Training Accuracy: {2:>6.1%}\"\n",
        "            print(msg.format(i + 1, los, acc))\n",
        "            \n",
        "            #los_list1.append(los)\n",
        "            acc_list.append(acc)\n",
        "            norm = math.sqrt(sum([sum(pow(grads_val,2)) for grads_val in grads_vals]))\n",
        "            grad_list.append(norm)\n",
        "            eigs = np.linalg.eigvals(hess_vals)\n",
        "            for j in range(len(eigs)):\n",
        "              for k in range(10):\n",
        "                if(eigs[j][k]>0):\n",
        "                  eig_list.append(eigs[j][k])\n",
        "            min_ratio = len(eig_list)/(len(eigs)*10)\n",
        "            min_ratio_list.append(min_ratio)\n",
        "            los_list.append(los)\n",
        "            #print(min_ratio)\n",
        "    total_iterations += num_iterations\n",
        "    #return min_ratio\n",
        "\n"
      ],
      "execution_count": 0,
      "outputs": []
    },
    {
      "cell_type": "code",
      "metadata": {
        "id": "neGSxWeCtGGK",
        "colab_type": "code",
        "outputId": "a0dd8364-f386-4b3e-ac6e-7e80f89a030e",
        "colab": {
          "base_uri": "https://localhost:8080/",
          "height": 34
        }
      },
      "source": [
        "len(los_list)"
      ],
      "execution_count": 54,
      "outputs": [
        {
          "output_type": "execute_result",
          "data": {
            "text/plain": [
              "0"
            ]
          },
          "metadata": {
            "tags": []
          },
          "execution_count": 54
        }
      ]
    },
    {
      "cell_type": "code",
      "metadata": {
        "id": "-i18tZOkh9ma",
        "colab_type": "code",
        "outputId": "12a8fa61-0ff2-4654-ae14-18a0ff23b26f",
        "colab": {
          "base_uri": "https://localhost:8080/",
          "height": 1000
        }
      },
      "source": [
        "optimize(num_iterations=1000)"
      ],
      "execution_count": 55,
      "outputs": [
        {
          "output_type": "stream",
          "text": [
            "Epoch:      1, Training Loss: 2.29851, Training Accuracy:  13.0%\n",
            "Epoch:     11, Training Loss: 2.29543, Training Accuracy:  19.0%\n",
            "Epoch:     21, Training Loss: 2.30379, Training Accuracy:  14.0%\n",
            "Epoch:     31, Training Loss: 2.29002, Training Accuracy:  15.0%\n",
            "Epoch:     41, Training Loss: 2.30224, Training Accuracy:  12.0%\n",
            "Epoch:     51, Training Loss: 2.3059, Training Accuracy:   7.0%\n",
            "Epoch:     61, Training Loss: 2.31321, Training Accuracy:   8.0%\n",
            "Epoch:     71, Training Loss: 2.30633, Training Accuracy:   7.0%\n",
            "Epoch:     81, Training Loss: 2.30099, Training Accuracy:  11.0%\n",
            "Epoch:     91, Training Loss: 2.30442, Training Accuracy:   8.0%\n",
            "Epoch:    101, Training Loss: 2.29153, Training Accuracy:  12.0%\n",
            "Epoch:    111, Training Loss: 2.29504, Training Accuracy:  12.0%\n",
            "Epoch:    121, Training Loss: 2.31603, Training Accuracy:  10.0%\n",
            "Epoch:    131, Training Loss: 2.30516, Training Accuracy:   8.0%\n",
            "Epoch:    141, Training Loss: 2.30708, Training Accuracy:   8.0%\n",
            "Epoch:    151, Training Loss: 2.30954, Training Accuracy:  10.0%\n",
            "Epoch:    161, Training Loss: 2.30494, Training Accuracy:  10.0%\n",
            "Epoch:    171, Training Loss: 2.29915, Training Accuracy:  18.0%\n",
            "Epoch:    181, Training Loss: 2.30803, Training Accuracy:  17.0%\n",
            "Epoch:    191, Training Loss: 2.3015, Training Accuracy:   8.0%\n",
            "Epoch:    201, Training Loss: 2.29895, Training Accuracy:  13.0%\n",
            "Epoch:    211, Training Loss: 2.30061, Training Accuracy:  11.0%\n",
            "Epoch:    221, Training Loss: 2.30056, Training Accuracy:  12.0%\n",
            "Epoch:    231, Training Loss: 2.29615, Training Accuracy:  16.0%\n",
            "Epoch:    241, Training Loss: 2.29757, Training Accuracy:  11.0%\n",
            "Epoch:    251, Training Loss: 2.30203, Training Accuracy:  11.0%\n",
            "Epoch:    261, Training Loss: 2.29764, Training Accuracy:  13.0%\n",
            "Epoch:    271, Training Loss: 2.30989, Training Accuracy:  12.0%\n",
            "Epoch:    281, Training Loss: 2.30528, Training Accuracy:  13.0%\n",
            "Epoch:    291, Training Loss: 2.29691, Training Accuracy:  13.0%\n",
            "Epoch:    301, Training Loss: 2.29499, Training Accuracy:  14.0%\n",
            "Epoch:    311, Training Loss: 2.29923, Training Accuracy:  15.0%\n",
            "Epoch:    321, Training Loss: 2.30578, Training Accuracy:  11.0%\n",
            "Epoch:    331, Training Loss: 2.30721, Training Accuracy:   9.0%\n",
            "Epoch:    341, Training Loss: 2.29735, Training Accuracy:  15.0%\n",
            "Epoch:    351, Training Loss: 2.29972, Training Accuracy:  14.0%\n",
            "Epoch:    361, Training Loss: 2.30071, Training Accuracy:  11.0%\n",
            "Epoch:    371, Training Loss: 2.30938, Training Accuracy:   7.0%\n",
            "Epoch:    381, Training Loss: 2.30728, Training Accuracy:   9.0%\n",
            "Epoch:    391, Training Loss: 2.29924, Training Accuracy:  10.0%\n",
            "Epoch:    401, Training Loss: 2.30621, Training Accuracy:  13.0%\n",
            "Epoch:    411, Training Loss: 2.30308, Training Accuracy:   5.0%\n",
            "Epoch:    421, Training Loss: 2.31674, Training Accuracy:   7.0%\n",
            "Epoch:    431, Training Loss: 2.29785, Training Accuracy:  15.0%\n",
            "Epoch:    441, Training Loss: 2.30248, Training Accuracy:  15.0%\n",
            "Epoch:    451, Training Loss: 2.29857, Training Accuracy:   8.0%\n",
            "Epoch:    461, Training Loss: 2.30622, Training Accuracy:   9.0%\n",
            "Epoch:    471, Training Loss: 2.29963, Training Accuracy:  13.0%\n",
            "Epoch:    481, Training Loss: 2.30436, Training Accuracy:   7.0%\n",
            "Epoch:    491, Training Loss: 2.30241, Training Accuracy:  12.0%\n",
            "Epoch:    501, Training Loss: 2.29602, Training Accuracy:  11.0%\n",
            "Epoch:    511, Training Loss: 2.28782, Training Accuracy:  15.0%\n",
            "Epoch:    521, Training Loss: 2.30637, Training Accuracy:   9.0%\n",
            "Epoch:    531, Training Loss: 2.29791, Training Accuracy:  15.0%\n",
            "Epoch:    541, Training Loss: 2.30291, Training Accuracy:  13.0%\n",
            "Epoch:    551, Training Loss: 2.29445, Training Accuracy:  13.0%\n",
            "Epoch:    561, Training Loss: 2.29622, Training Accuracy:  14.0%\n",
            "Epoch:    571, Training Loss: 2.29724, Training Accuracy:  11.0%\n",
            "Epoch:    581, Training Loss: 2.29819, Training Accuracy:  14.0%\n",
            "Epoch:    591, Training Loss: 2.2996, Training Accuracy:   8.0%\n",
            "Epoch:    601, Training Loss: 2.29608, Training Accuracy:  14.0%\n",
            "Epoch:    611, Training Loss: 2.29597, Training Accuracy:  18.0%\n",
            "Epoch:    621, Training Loss: 2.29739, Training Accuracy:  13.0%\n",
            "Epoch:    631, Training Loss: 2.29058, Training Accuracy:  12.0%\n",
            "Epoch:    641, Training Loss: 2.30475, Training Accuracy:   9.0%\n",
            "Epoch:    651, Training Loss: 2.31073, Training Accuracy:   6.0%\n",
            "Epoch:    661, Training Loss: 2.29876, Training Accuracy:  10.0%\n",
            "Epoch:    671, Training Loss: 2.28082, Training Accuracy:  17.0%\n",
            "Epoch:    681, Training Loss: 2.29822, Training Accuracy:  16.0%\n",
            "Epoch:    691, Training Loss: 2.29713, Training Accuracy:  14.0%\n",
            "Epoch:    701, Training Loss: 2.29533, Training Accuracy:  13.0%\n",
            "Epoch:    711, Training Loss: 2.29128, Training Accuracy:  17.0%\n",
            "Epoch:    721, Training Loss: 2.30613, Training Accuracy:  15.0%\n",
            "Epoch:    731, Training Loss: 2.28405, Training Accuracy:  17.0%\n",
            "Epoch:    741, Training Loss: 2.31062, Training Accuracy:  10.0%\n",
            "Epoch:    751, Training Loss: 2.30005, Training Accuracy:   9.0%\n",
            "Epoch:    761, Training Loss: 2.2924, Training Accuracy:  13.0%\n",
            "Epoch:    771, Training Loss: 2.29434, Training Accuracy:  12.0%\n",
            "Epoch:    781, Training Loss: 2.30849, Training Accuracy:  11.0%\n",
            "Epoch:    791, Training Loss: 2.3064, Training Accuracy:  11.0%\n",
            "Epoch:    801, Training Loss: 2.3085, Training Accuracy:  10.0%\n",
            "Epoch:    811, Training Loss: 2.30126, Training Accuracy:  14.0%\n",
            "Epoch:    821, Training Loss: 2.30181, Training Accuracy:  11.0%\n",
            "Epoch:    831, Training Loss: 2.30546, Training Accuracy:  12.0%\n",
            "Epoch:    841, Training Loss: 2.30079, Training Accuracy:  10.0%\n",
            "Epoch:    851, Training Loss: 2.29892, Training Accuracy:  10.0%\n",
            "Epoch:    861, Training Loss: 2.29336, Training Accuracy:  11.0%\n",
            "Epoch:    871, Training Loss: 2.30821, Training Accuracy:  11.0%\n",
            "Epoch:    881, Training Loss: 2.30258, Training Accuracy:   6.0%\n",
            "Epoch:    891, Training Loss: 2.30712, Training Accuracy:  12.0%\n",
            "Epoch:    901, Training Loss: 2.29514, Training Accuracy:  12.0%\n",
            "Epoch:    911, Training Loss: 2.2991, Training Accuracy:  16.0%\n",
            "Epoch:    921, Training Loss: 2.29485, Training Accuracy:  14.0%\n",
            "Epoch:    931, Training Loss: 2.29883, Training Accuracy:  16.0%\n",
            "Epoch:    941, Training Loss: 2.30068, Training Accuracy:  12.0%\n",
            "Epoch:    951, Training Loss: 2.29845, Training Accuracy:  11.0%\n",
            "Epoch:    961, Training Loss: 2.2954, Training Accuracy:  16.0%\n",
            "Epoch:    971, Training Loss: 2.29535, Training Accuracy:  13.0%\n",
            "Epoch:    981, Training Loss: 2.29373, Training Accuracy:  13.0%\n",
            "Epoch:    991, Training Loss: 2.29998, Training Accuracy:  14.0%\n"
          ],
          "name": "stdout"
        }
      ]
    },
    {
      "cell_type": "code",
      "metadata": {
        "id": "XDyx5N1cifU9",
        "colab_type": "code",
        "outputId": "7ed19170-af27-418c-9a76-1d9c1cb83761",
        "colab": {
          "base_uri": "https://localhost:8080/",
          "height": 314
        }
      },
      "source": [
        "len(min_ratio_list)\n",
        "len(los_list)\n",
        "plt.figure()\n",
        "plt.scatter(min_ratio_list, los_list)\n",
        "plt.xlabel('Minimum_Ratio')\n",
        "plt.ylabel('Loss')\n",
        "plt.legend(loc='lower right')"
      ],
      "execution_count": 56,
      "outputs": [
        {
          "output_type": "stream",
          "text": [
            "No handles with labels found to put in legend.\n"
          ],
          "name": "stderr"
        },
        {
          "output_type": "execute_result",
          "data": {
            "text/plain": [
              "<matplotlib.legend.Legend at 0x7f4e26ccb128>"
            ]
          },
          "metadata": {
            "tags": []
          },
          "execution_count": 56
        },
        {
          "output_type": "display_data",
          "data": {
            "image/png": "[encoded data removed]",
            "text/plain": [
              "<Figure size 432x288 with 1 Axes>"
            ]
          },
          "metadata": {
            "tags": []
          }
        }
      ]
    },
    {
      "cell_type": "code",
      "metadata": {
        "id": "7D4KCyMpS0J3",
        "colab_type": "code",
        "colab": {}
      },
      "source": [
        "test_batch_size = 256\n",
        "def print_test_accuracy():\n",
        "    num_test = len(data.test.images)\n",
        "    cls_pred = np.zeros(shape=num_test, dtype=np.int)\n",
        "    i = 0\n",
        "\n",
        "    while i < num_test:\n",
        "        j = min(i + test_batch_size, num_test)\n",
        "        images = data.test.images[i:j, :]\n",
        "        labels = data.test.labels[i:j, :]\n",
        "        feed_dict = {x: images,y_true: labels}\n",
        "        cls_pred[i:j] = session.run(y_pred_cls, feed_dict=feed_dict)\n",
        "        i = j\n",
        "    # Convenience variable for the true class-numbers of the test-set.\n",
        "    cls_true = data.test.cls\n",
        "    # Create a boolean array whether each image is correctly classified.\n",
        "    correct = (cls_true == cls_pred)\n",
        "    correct_sum = correct.sum()\n",
        "    acc = float(correct_sum) / num_test\n",
        "    msg = \"Accuracy on Test-Set: {0:.1%} ({1} / {2})\"\n",
        "    print(msg.format(acc, correct_sum, num_test))"
      ],
      "execution_count": 0,
      "outputs": []
    },
    {
      "cell_type": "code",
      "metadata": {
        "id": "1oAXA8gVEUit",
        "colab_type": "code",
        "outputId": "fc838f62-efb5-4d09-a3c8-dfe125581c30",
        "colab": {
          "base_uri": "https://localhost:8080/",
          "height": 242
        }
      },
      "source": [
        "w = session.run(weights_fc_out)\n",
        "w"
      ],
      "execution_count": 58,
      "outputs": [
        {
          "output_type": "execute_result",
          "data": {
            "text/plain": [
              "array([[ 0.14437781, -0.05333991,  0.20092174, ...,  0.12322905,\n",
              "        -0.16992833, -0.04269646],\n",
              "       [-0.11046   , -0.17175907, -0.0245756 , ..., -0.16836189,\n",
              "         0.0285311 , -0.05030591],\n",
              "       [ 0.00233162,  0.16704448, -0.07424434, ..., -0.02103476,\n",
              "         0.05926802, -0.03362956],\n",
              "       ...,\n",
              "       [-0.05690404,  0.08536825, -0.00734294, ..., -0.114608  ,\n",
              "        -0.2003352 ,  0.03964776],\n",
              "       [-0.13891202,  0.16273865,  0.11994205, ..., -0.1521724 ,\n",
              "         0.06763982,  0.12533851],\n",
              "       [ 0.11478909,  0.11954934,  0.2016653 , ..., -0.11365926,\n",
              "         0.17036909, -0.20311883]], dtype=float32)"
            ]
          },
          "metadata": {
            "tags": []
          },
          "execution_count": 58
        }
      ]
    },
    {
      "cell_type": "code",
      "metadata": {
        "id": "iyEW1CJmS3c8",
        "colab_type": "code",
        "outputId": "802d6bc9-3db0-44b0-8303-6c14fb0ccf4c",
        "colab": {
          "base_uri": "https://localhost:8080/",
          "height": 34
        }
      },
      "source": [
        "print_test_accuracy()"
      ],
      "execution_count": 59,
      "outputs": [
        {
          "output_type": "stream",
          "text": [
            "Accuracy on Test-Set: 11.3% (1128 / 10000)\n"
          ],
          "name": "stdout"
        }
      ]
    },
    {
      "cell_type": "code",
      "metadata": {
        "id": "KMVUKtLbS6BT",
        "colab_type": "code",
        "colab": {}
      },
      "source": [
        "#optimize(num_iterations=1)"
      ],
      "execution_count": 0,
      "outputs": []
    },
    {
      "cell_type": "code",
      "metadata": {
        "id": "R_RrrhswEXMf",
        "colab_type": "code",
        "outputId": "18bb311f-97f2-4dbd-e7df-c17eeaba9c38",
        "colab": {
          "base_uri": "https://localhost:8080/",
          "height": 242
        }
      },
      "source": [
        "w = session.run(weights_fc_out)\n",
        "w"
      ],
      "execution_count": 61,
      "outputs": [
        {
          "output_type": "execute_result",
          "data": {
            "text/plain": [
              "array([[ 0.14437781, -0.05333991,  0.20092174, ...,  0.12322905,\n",
              "        -0.16992833, -0.04269646],\n",
              "       [-0.11046   , -0.17175907, -0.0245756 , ..., -0.16836189,\n",
              "         0.0285311 , -0.05030591],\n",
              "       [ 0.00233162,  0.16704448, -0.07424434, ..., -0.02103476,\n",
              "         0.05926802, -0.03362956],\n",
              "       ...,\n",
              "       [-0.05690404,  0.08536825, -0.00734294, ..., -0.114608  ,\n",
              "        -0.2003352 ,  0.03964776],\n",
              "       [-0.13891202,  0.16273865,  0.11994205, ..., -0.1521724 ,\n",
              "         0.06763982,  0.12533851],\n",
              "       [ 0.11478909,  0.11954934,  0.2016653 , ..., -0.11365926,\n",
              "         0.17036909, -0.20311883]], dtype=float32)"
            ]
          },
          "metadata": {
            "tags": []
          },
          "execution_count": 61
        }
      ]
    },
    {
      "cell_type": "code",
      "metadata": {
        "id": "nORvlm23S9mH",
        "colab_type": "code",
        "outputId": "daad8ab0-1ddf-4522-9217-75ce04be5843",
        "colab": {
          "base_uri": "https://localhost:8080/",
          "height": 34
        }
      },
      "source": [
        "print_test_accuracy()"
      ],
      "execution_count": 62,
      "outputs": [
        {
          "output_type": "stream",
          "text": [
            "Accuracy on Test-Set: 11.3% (1128 / 10000)\n"
          ],
          "name": "stdout"
        }
      ]
    },
    {
      "cell_type": "code",
      "metadata": {
        "id": "KjnyOW35TBEI",
        "colab_type": "code",
        "colab": {}
      },
      "source": [
        "#%%time\n",
        "#optimize(num_iterations=99)\n"
      ],
      "execution_count": 0,
      "outputs": []
    },
    {
      "cell_type": "code",
      "metadata": {
        "id": "Fd3oCbPdTG_h",
        "colab_type": "code",
        "outputId": "84e4e9a2-a652-4e9b-83c9-884f3539dd96",
        "colab": {
          "base_uri": "https://localhost:8080/",
          "height": 34
        }
      },
      "source": [
        "print_test_accuracy()"
      ],
      "execution_count": 63,
      "outputs": [
        {
          "output_type": "stream",
          "text": [
            "Accuracy on Test-Set: 11.3% (1128 / 10000)\n"
          ],
          "name": "stdout"
        }
      ]
    },
    {
      "cell_type": "code",
      "metadata": {
        "id": "mSsQsTKDIHW3",
        "colab_type": "code",
        "colab": {}
      },
      "source": [
        ""
      ],
      "execution_count": 0,
      "outputs": []
    },
    {
      "cell_type": "code",
      "metadata": {
        "id": "oiloU2LwTo7p",
        "colab_type": "code",
        "colab": {}
      },
      "source": [
        "def plot_conv_weights(weights, input_channel=0):\n",
        "\n",
        "    w = session.run(weights)\n",
        "    w_min = np.min(w)\n",
        "    w_max = np.max(w)\n",
        "    num_filters = w.shape[3]\n",
        "    num_grids = math.ceil(math.sqrt(num_filters))\n",
        "    \n",
        "    fig, axes = plt.subplots(num_grids, num_grids)\n",
        "    for i, ax in enumerate(axes.flat):\n",
        "        if i<num_filters:\n",
        "            img = w[:, :, input_channel, i]\n",
        "            ax.imshow(img, vmin=w_min, vmax=w_max,\n",
        "                      interpolation='nearest', cmap='seismic')\n",
        "\n",
        "        ax.set_xticks([])\n",
        "        ax.set_yticks([])\n",
        "    plt.show()"
      ],
      "execution_count": 0,
      "outputs": []
    },
    {
      "cell_type": "code",
      "metadata": {
        "id": "1IDJgsxlTt2V",
        "colab_type": "code",
        "outputId": "abc91a6f-54d6-4e54-93e6-9a654feab8ad",
        "colab": {
          "base_uri": "https://localhost:8080/",
          "height": 252
        }
      },
      "source": [
        "plot_conv_weights(weights=weights_conv1)"
      ],
      "execution_count": 65,
      "outputs": [
        {
          "output_type": "display_data",
          "data": {
            "image/png": "[encoded data removed]",
            "text/plain": [
              "<Figure size 432x288 with 25 Axes>"
            ]
          },
          "metadata": {
            "tags": []
          }
        }
      ]
    },
    {
      "cell_type": "code",
      "metadata": {
        "id": "6k6fQ0B7TwW4",
        "colab_type": "code",
        "outputId": "74ec474e-d45a-4f89-bf88-a955c3769238",
        "colab": {
          "base_uri": "https://localhost:8080/",
          "height": 252
        }
      },
      "source": [
        "plot_conv_weights(weights=weights_conv2, input_channel=0)"
      ],
      "execution_count": 66,
      "outputs": [
        {
          "output_type": "display_data",
          "data": {
            "image/png": "[encoded data removed]",
            "text/plain": [
              "<Figure size 432x288 with 36 Axes>"
            ]
          },
          "metadata": {
            "tags": []
          }
        }
      ]
    },
    {
      "cell_type": "code",
      "metadata": {
        "id": "tkXeYMM9TyIi",
        "colab_type": "code",
        "outputId": "0ef04d02-d848-48d3-dba8-f856cc6026e3",
        "colab": {
          "base_uri": "https://localhost:8080/",
          "height": 252
        }
      },
      "source": [
        "plot_conv_weights(weights=weights_conv2, input_channel=1)"
      ],
      "execution_count": 67,
      "outputs": [
        {
          "output_type": "display_data",
          "data": {
            "image/png": "[encoded data removed]",
            "text/plain": [
              "<Figure size 432x288 with 36 Axes>"
            ]
          },
          "metadata": {
            "tags": []
          }
        }
      ]
    },
    {
      "cell_type": "code",
      "metadata": {
        "id": "mAmw4bTiIHAw",
        "colab_type": "code",
        "colab": {}
      },
      "source": [
        "from sklearn.decomposition import PCA\n",
        "def plot_fc_weights(weights_list):\n",
        "    # Assume weights in weights_list are TensorFlow ops for 2-dim variables\n",
        "    \n",
        "    # Retrieve the values of the weight-variables from TensorFlow.\n",
        "    # A feed-dict is not necessary because nothing is calculated.\n",
        "    w_list = session.run(weights_list)\n",
        "    \n",
        "    pca = PCA(n_components=2)\n",
        "    \n",
        "    fig = plt.figure(figsize = (8,8))\n",
        "    ax = fig.add_subplot(1,1,1) \n",
        "    ax.set_xlabel('Principal Component 1', fontsize = 15)\n",
        "    ax.set_ylabel('Principal Component 2', fontsize = 15)\n",
        "    ax.set_title('2 component PCA', fontsize = 20)\n",
        "    \n",
        "    for w in w_list:\n",
        "            \n",
        "        print(w.shape)\n",
        "\n",
        "        principalComponents = pca.fit_transform(w)\n",
        "\n",
        "        ax.scatter(principalComponents[:,0], principalComponents[:,1], label=w.shape, alpha=0.5)\n",
        "\n",
        "    ax.legend()\n",
        "    plt.show()\n",
        "\n"
      ],
      "execution_count": 0,
      "outputs": []
    },
    {
      "cell_type": "code",
      "metadata": {
        "id": "DrVLzjD_MCme",
        "colab_type": "code",
        "outputId": "38313de2-13b7-42e0-a3c0-ecc7a2d6f432",
        "colab": {
          "base_uri": "https://localhost:8080/",
          "height": 155
        }
      },
      "source": [
        "#w_list = []\n",
        "for i in range(24):  \n",
        "  optimize(num_iterations=3) # We already performed 1 iteration above.\n",
        "#  w = session.run(weights_fc_out)\n",
        "#  w_list.append(w)"
      ],
      "execution_count": 69,
      "outputs": [
        {
          "output_type": "stream",
          "text": [
            "Epoch:   1001, Training Loss: 2.30788, Training Accuracy:   5.0%\n",
            "Epoch:   1011, Training Loss: 2.30438, Training Accuracy:   9.0%\n",
            "Epoch:   1021, Training Loss: 2.30082, Training Accuracy:   8.0%\n",
            "Epoch:   1031, Training Loss: 2.30983, Training Accuracy:   8.0%\n",
            "Epoch:   1041, Training Loss: 2.30719, Training Accuracy:   7.0%\n",
            "Epoch:   1051, Training Loss: 2.29812, Training Accuracy:  14.0%\n",
            "Epoch:   1061, Training Loss: 2.30587, Training Accuracy:   9.0%\n",
            "Epoch:   1071, Training Loss: 2.30213, Training Accuracy:   7.0%\n"
          ],
          "name": "stdout"
        }
      ]
    },
    {
      "cell_type": "code",
      "metadata": {
        "id": "QiHARkI9T0e6",
        "colab_type": "code",
        "outputId": "eaab1ea3-c8b8-4cc2-b171-0795d206cd66",
        "colab": {
          "base_uri": "https://localhost:8080/",
          "height": 540
        }
      },
      "source": [
        "plot_fc_weights(weights_list=[weights_fc_out])"
      ],
      "execution_count": 70,
      "outputs": [
        {
          "output_type": "stream",
          "text": [
            "(128, 10)\n"
          ],
          "name": "stdout"
        },
        {
          "output_type": "display_data",
          "data": {
            "image/png": "[encoded data removed]",
            "text/plain": [
              "<Figure size 576x576 with 1 Axes>"
            ]
          },
          "metadata": {
            "tags": []
          }
        }
      ]
    },
    {
      "cell_type": "code",
      "metadata": {
        "id": "BjwNZRnrSfvP",
        "colab_type": "code",
        "colab": {}
      },
      "source": [
        ""
      ],
      "execution_count": 0,
      "outputs": []
    },
    {
      "cell_type": "code",
      "metadata": {
        "id": "P1GwHMAOT26O",
        "colab_type": "code",
        "outputId": "980f93cb-1157-4b71-a085-e0de22b8dd4e",
        "colab": {
          "base_uri": "https://localhost:8080/",
          "height": 282
        }
      },
      "source": [
        "import matplotlib.pyplot as plt\n",
        "plt.plot(acc_list)"
      ],
      "execution_count": 71,
      "outputs": [
        {
          "output_type": "execute_result",
          "data": {
            "text/plain": [
              "[<matplotlib.lines.Line2D at 0x7f4e2dc15358>]"
            ]
          },
          "metadata": {
            "tags": []
          },
          "execution_count": 71
        },
        {
          "output_type": "display_data",
          "data": {
            "image/png": "[encoded data removed]",
            "text/plain": [
              "<Figure size 432x288 with 1 Axes>"
            ]
          },
          "metadata": {
            "tags": []
          }
        }
      ]
    },
    {
      "cell_type": "code",
      "metadata": {
        "id": "9I7J2hgHT5Pg",
        "colab_type": "code",
        "outputId": "7fcd48d5-7ed7-4557-b697-5eac8d5e10b5",
        "colab": {
          "base_uri": "https://localhost:8080/",
          "height": 282
        }
      },
      "source": [
        "plt.plot(los_list)"
      ],
      "execution_count": 72,
      "outputs": [
        {
          "output_type": "execute_result",
          "data": {
            "text/plain": [
              "[<matplotlib.lines.Line2D at 0x7f4e24c4bb00>]"
            ]
          },
          "metadata": {
            "tags": []
          },
          "execution_count": 72
        },
        {
          "output_type": "display_data",
          "data": {
            "image/png": "[encoded data removed]",
            "text/plain": [
              "<Figure size 432x288 with 1 Axes>"
            ]
          },
          "metadata": {
            "tags": []
          }
        }
      ]
    },
    {
      "cell_type": "code",
      "metadata": {
        "id": "nKzov69IpR3D",
        "colab_type": "code",
        "colab": {}
      },
      "source": [
        "import numpy as np\n",
        "from numpy.linalg import norm\n",
        "import matplotlib.pyplot as plt\n",
        "\n",
        "grad_norm = []\n",
        "def train_epoch_end_signal(network):\n",
        "    global grad_norm\n",
        "    # Get gradient for the last layer\n",
        "    grad_norm.append(norm(network.gradients[-1]))"
      ],
      "execution_count": 0,
      "outputs": []
    },
    {
      "cell_type": "code",
      "metadata": {
        "id": "6S-8KWOoBCn2",
        "colab_type": "code",
        "outputId": "8493a65b-f4b2-4c32-dc96-ac957f8bb2bf",
        "colab": {
          "base_uri": "https://localhost:8080/",
          "height": 312
        }
      },
      "source": [
        "plt.plot(grad_list)\n",
        "plt.title('gradient Norm')\n",
        "plt.xlabel('iteration')\n",
        "plt.ylabel('Norm')\n"
      ],
      "execution_count": 74,
      "outputs": [
        {
          "output_type": "execute_result",
          "data": {
            "text/plain": [
              "Text(0, 0.5, 'Norm')"
            ]
          },
          "metadata": {
            "tags": []
          },
          "execution_count": 74
        },
        {
          "output_type": "display_data",
          "data": {
            "image/png": "[encoded data removed]",
            "text/plain": [
              "<Figure size 432x288 with 1 Axes>"
            ]
          },
          "metadata": {
            "tags": []
          }
        }
      ]
    },
    {
      "cell_type": "code",
      "metadata": {
        "id": "tI9ywpapGrwd",
        "colab_type": "code",
        "colab": {
          "base_uri": "https://localhost:8080/",
          "height": 282
        },
        "outputId": "0fe2f02c-ee7f-4ae5-ad98-6c5efb0d5d75"
      },
      "source": [
        "plt.plot(acc_list,label = 'Accuracy')\n",
        "plt.plot(los_list,label = ' loss')"
      ],
      "execution_count": 85,
      "outputs": [
        {
          "output_type": "execute_result",
          "data": {
            "text/plain": [
              "[<matplotlib.lines.Line2D at 0x7f4e244dda58>]"
            ]
          },
          "metadata": {
            "tags": []
          },
          "execution_count": 85
        },
        {
          "output_type": "display_data",
          "data": {
            "image/png": "[encoded data removed]",
            "text/plain": [
              "<Figure size 432x288 with 1 Axes>"
            ]
          },
          "metadata": {
            "tags": []
          }
        }
      ]
    },
    {
      "cell_type": "code",
      "metadata": {
        "id": "H-Z8A71zE1dR",
        "colab_type": "code",
        "colab": {}
      },
      "source": [
        "session1 = tf.Session()"
      ],
      "execution_count": 0,
      "outputs": []
    },
    {
      "cell_type": "code",
      "metadata": {
        "id": "s1A4SJjaQdwo",
        "colab_type": "code",
        "colab": {}
      },
      "source": [
        "session1.run(tf.global_variables_initializer())"
      ],
      "execution_count": 0,
      "outputs": []
    },
    {
      "cell_type": "code",
      "metadata": {
        "id": "PBxybiIgQd0a",
        "colab_type": "code",
        "outputId": "c9d6cde4-e902-42ea-a270-189ea0e29742",
        "colab": {
          "base_uri": "https://localhost:8080/",
          "height": 34
        }
      },
      "source": [
        "grads1 = tf.gradients(loss1, weights_fc_out1)[0]\n",
        "print(grads1)"
      ],
      "execution_count": 77,
      "outputs": [
        {
          "output_type": "stream",
          "text": [
            "Tensor(\"gradients_5/layer_fc_out1/MatMul_grad/MatMul_1:0\", shape=(128, 10), dtype=float32)\n"
          ],
          "name": "stdout"
        }
      ]
    },
    {
      "cell_type": "code",
      "metadata": {
        "id": "kvnuRwHCyUAh",
        "colab_type": "code",
        "outputId": "0d1c2584-1ce7-4b7c-b899-b7931a415ae0",
        "colab": {
          "base_uri": "https://localhost:8080/",
          "height": 34
        }
      },
      "source": [
        "hessian1 = tf.reduce_sum(tf.hessians(loss1, weights_fc_out1)[0], axis = 2)\n",
        "print(hessian1)"
      ],
      "execution_count": 78,
      "outputs": [
        {
          "output_type": "stream",
          "text": [
            "Tensor(\"Sum_1:0\", shape=(128, 10, 10), dtype=float32)\n"
          ],
          "name": "stdout"
        }
      ]
    },
    {
      "cell_type": "code",
      "metadata": {
        "id": "4DBxyhxtyaTw",
        "colab_type": "code",
        "colab": {}
      },
      "source": [
        "# Counter for total number of iterations performed so far.\n",
        "total_iterations1 = 0\n",
        "los_list1 = []\n",
        "acc_list1 = []\n",
        "grad_list1 = []\n",
        "hess_list1 = []\n",
        "import numpy as np\n",
        "import math\n",
        "\n",
        "def optimize(num_iterations1):\n",
        "    global total_iterations1\n",
        "\n",
        "    for i in range(total_iterations1,total_iterations1 + num_iterations1):\n",
        "        x_batch1, y_true_batch1 = data.train.next_batch(train_batch_size)\n",
        "        feed_dict_train1 = {x1: x_batch1,y_true1: y_true_batch1}\n",
        "        session.run(optimizer1, feed_dict=feed_dict_train1)\n",
        "        w1 = session.run(weights_fc_out1)\n",
        "        if i % 10 == 0:\n",
        "            los1, acc1 = session.run([loss1, accuracy1], feed_dict=feed_dict_train1)            \n",
        "            grads_vals1, hess_vals1 = session.run([grads1, hessian1], feed_dict=feed_dict_train1)\n",
        "            msg1 = \"Epoch: {0:>6}, Training Loss: {1:>1.6}, Training Accuracy: {2:>6.1%}\"\n",
        "            print(msg1.format(i + 1, los1, acc1))\n",
        "            los_list1.append(los1)\n",
        "            acc_list1.append(acc1)\n",
        "            norm1 = math.sqrt(sum([sum(pow(grads_val1,2)) for grads_val1 in grads_vals1]))\n",
        "            grad_list1.append(norm1)\n",
        "        #grad_list.append(np.linalg.norm(grads_vals))\n",
        "            hess_list1.append((hess_vals1))\n",
        "    total_iterations1 += num_iterations1\n"
      ],
      "execution_count": 0,
      "outputs": []
    },
    {
      "cell_type": "code",
      "metadata": {
        "id": "IMDseDIfzcsX",
        "colab_type": "code",
        "outputId": "70ef3890-a852-4322-b88c-fe24939e281f",
        "colab": {
          "base_uri": "https://localhost:8080/",
          "height": 1000
        }
      },
      "source": [
        "%%time\n",
        "optimize(num_iterations1=999) # We already performed 1 iteration above.\n"
      ],
      "execution_count": 80,
      "outputs": [
        {
          "output_type": "stream",
          "text": [
            "Epoch:      1, Training Loss: 2.29114, Training Accuracy:  14.0%\n",
            "Epoch:     11, Training Loss: 2.29927, Training Accuracy:  13.0%\n",
            "Epoch:     21, Training Loss: 2.30202, Training Accuracy:  12.0%\n",
            "Epoch:     31, Training Loss: 2.28965, Training Accuracy:  15.0%\n",
            "Epoch:     41, Training Loss: 2.29047, Training Accuracy:  16.0%\n",
            "Epoch:     51, Training Loss: 2.30737, Training Accuracy:   8.0%\n",
            "Epoch:     61, Training Loss: 2.30617, Training Accuracy:  10.0%\n",
            "Epoch:     71, Training Loss: 2.30499, Training Accuracy:   8.0%\n",
            "Epoch:     81, Training Loss: 2.29754, Training Accuracy:  16.0%\n",
            "Epoch:     91, Training Loss: 2.30225, Training Accuracy:  13.0%\n",
            "Epoch:    101, Training Loss: 2.3069, Training Accuracy:   7.0%\n",
            "Epoch:    111, Training Loss: 2.28729, Training Accuracy:  13.0%\n",
            "Epoch:    121, Training Loss: 2.30646, Training Accuracy:  10.0%\n",
            "Epoch:    131, Training Loss: 2.30166, Training Accuracy:  10.0%\n",
            "Epoch:    141, Training Loss: 2.3028, Training Accuracy:  10.0%\n",
            "Epoch:    151, Training Loss: 2.31131, Training Accuracy:   7.0%\n",
            "Epoch:    161, Training Loss: 2.28383, Training Accuracy:  14.0%\n",
            "Epoch:    171, Training Loss: 2.30614, Training Accuracy:  11.0%\n",
            "Epoch:    181, Training Loss: 2.30702, Training Accuracy:   9.0%\n",
            "Epoch:    191, Training Loss: 2.30371, Training Accuracy:  13.0%\n",
            "Epoch:    201, Training Loss: 2.30094, Training Accuracy:  11.0%\n",
            "Epoch:    211, Training Loss: 2.30438, Training Accuracy:  12.0%\n",
            "Epoch:    221, Training Loss: 2.29877, Training Accuracy:  14.0%\n",
            "Epoch:    231, Training Loss: 2.3091, Training Accuracy:  11.0%\n",
            "Epoch:    241, Training Loss: 2.28884, Training Accuracy:  15.0%\n",
            "Epoch:    251, Training Loss: 2.3059, Training Accuracy:  10.0%\n",
            "Epoch:    261, Training Loss: 2.29887, Training Accuracy:   8.0%\n",
            "Epoch:    271, Training Loss: 2.29072, Training Accuracy:  15.0%\n",
            "Epoch:    281, Training Loss: 2.30472, Training Accuracy:   8.0%\n",
            "Epoch:    291, Training Loss: 2.30518, Training Accuracy:  12.0%\n",
            "Epoch:    301, Training Loss: 2.30429, Training Accuracy:  13.0%\n",
            "Epoch:    311, Training Loss: 2.30605, Training Accuracy:   8.0%\n",
            "Epoch:    321, Training Loss: 2.29844, Training Accuracy:  13.0%\n",
            "Epoch:    331, Training Loss: 2.30245, Training Accuracy:   8.0%\n",
            "Epoch:    341, Training Loss: 2.294, Training Accuracy:  15.0%\n",
            "Epoch:    351, Training Loss: 2.30173, Training Accuracy:  12.0%\n",
            "Epoch:    361, Training Loss: 2.30318, Training Accuracy:  10.0%\n",
            "Epoch:    371, Training Loss: 2.30916, Training Accuracy:   9.0%\n",
            "Epoch:    381, Training Loss: 2.30699, Training Accuracy:  11.0%\n",
            "Epoch:    391, Training Loss: 2.30575, Training Accuracy:  11.0%\n",
            "Epoch:    401, Training Loss: 2.31429, Training Accuracy:   4.0%\n",
            "Epoch:    411, Training Loss: 2.3031, Training Accuracy:   9.0%\n",
            "Epoch:    421, Training Loss: 2.30145, Training Accuracy:  13.0%\n",
            "Epoch:    431, Training Loss: 2.30153, Training Accuracy:  10.0%\n",
            "Epoch:    441, Training Loss: 2.30035, Training Accuracy:  13.0%\n",
            "Epoch:    451, Training Loss: 2.29765, Training Accuracy:  11.0%\n",
            "Epoch:    461, Training Loss: 2.30987, Training Accuracy:   4.0%\n",
            "Epoch:    471, Training Loss: 2.29754, Training Accuracy:  15.0%\n",
            "Epoch:    481, Training Loss: 2.3049, Training Accuracy:   9.0%\n",
            "Epoch:    491, Training Loss: 2.29526, Training Accuracy:  12.0%\n",
            "Epoch:    501, Training Loss: 2.29524, Training Accuracy:  13.0%\n",
            "Epoch:    511, Training Loss: 2.3039, Training Accuracy:  12.0%\n",
            "Epoch:    521, Training Loss: 2.29713, Training Accuracy:   9.0%\n",
            "Epoch:    531, Training Loss: 2.30901, Training Accuracy:  10.0%\n",
            "Epoch:    541, Training Loss: 2.29176, Training Accuracy:  15.0%\n",
            "Epoch:    551, Training Loss: 2.30455, Training Accuracy:   8.0%\n",
            "Epoch:    561, Training Loss: 2.29335, Training Accuracy:  17.0%\n",
            "Epoch:    571, Training Loss: 2.30065, Training Accuracy:   9.0%\n",
            "Epoch:    581, Training Loss: 2.30934, Training Accuracy:   6.0%\n",
            "Epoch:    591, Training Loss: 2.29939, Training Accuracy:  11.0%\n",
            "Epoch:    601, Training Loss: 2.29987, Training Accuracy:  15.0%\n",
            "Epoch:    611, Training Loss: 2.30198, Training Accuracy:  11.0%\n",
            "Epoch:    621, Training Loss: 2.29669, Training Accuracy:  16.0%\n",
            "Epoch:    631, Training Loss: 2.30109, Training Accuracy:   7.0%\n",
            "Epoch:    641, Training Loss: 2.30358, Training Accuracy:  14.0%\n",
            "Epoch:    651, Training Loss: 2.29499, Training Accuracy:  14.0%\n",
            "Epoch:    661, Training Loss: 2.30001, Training Accuracy:   9.0%\n",
            "Epoch:    671, Training Loss: 2.30497, Training Accuracy:   8.0%\n",
            "Epoch:    681, Training Loss: 2.29649, Training Accuracy:   8.0%\n",
            "Epoch:    691, Training Loss: 2.28561, Training Accuracy:  17.0%\n",
            "Epoch:    701, Training Loss: 2.29971, Training Accuracy:  10.0%\n",
            "Epoch:    711, Training Loss: 2.29209, Training Accuracy:  18.0%\n",
            "Epoch:    721, Training Loss: 2.30025, Training Accuracy:   8.0%\n",
            "Epoch:    731, Training Loss: 2.28278, Training Accuracy:  18.0%\n",
            "Epoch:    741, Training Loss: 2.30369, Training Accuracy:   8.0%\n",
            "Epoch:    751, Training Loss: 2.29571, Training Accuracy:  17.0%\n",
            "Epoch:    761, Training Loss: 2.2813, Training Accuracy:  17.0%\n",
            "Epoch:    771, Training Loss: 2.30894, Training Accuracy:   9.0%\n",
            "Epoch:    781, Training Loss: 2.30111, Training Accuracy:  11.0%\n",
            "Epoch:    791, Training Loss: 2.29638, Training Accuracy:  11.0%\n",
            "Epoch:    801, Training Loss: 2.29969, Training Accuracy:  11.0%\n",
            "Epoch:    811, Training Loss: 2.29894, Training Accuracy:   9.0%\n",
            "Epoch:    821, Training Loss: 2.30339, Training Accuracy:  12.0%\n",
            "Epoch:    831, Training Loss: 2.29783, Training Accuracy:  13.0%\n",
            "Epoch:    841, Training Loss: 2.29518, Training Accuracy:  16.0%\n",
            "Epoch:    851, Training Loss: 2.29535, Training Accuracy:  14.0%\n",
            "Epoch:    861, Training Loss: 2.29424, Training Accuracy:  13.0%\n",
            "Epoch:    871, Training Loss: 2.29459, Training Accuracy:  13.0%\n",
            "Epoch:    881, Training Loss: 2.30089, Training Accuracy:  14.0%\n",
            "Epoch:    891, Training Loss: 2.30743, Training Accuracy:  11.0%\n",
            "Epoch:    901, Training Loss: 2.3057, Training Accuracy:  11.0%\n",
            "Epoch:    911, Training Loss: 2.30395, Training Accuracy:  10.0%\n",
            "Epoch:    921, Training Loss: 2.30109, Training Accuracy:  11.0%\n",
            "Epoch:    931, Training Loss: 2.30416, Training Accuracy:   9.0%\n",
            "Epoch:    941, Training Loss: 2.30648, Training Accuracy:   8.0%\n",
            "Epoch:    951, Training Loss: 2.29865, Training Accuracy:  17.0%\n",
            "Epoch:    961, Training Loss: 2.29711, Training Accuracy:  11.0%\n",
            "Epoch:    971, Training Loss: 2.30584, Training Accuracy:   8.0%\n",
            "Epoch:    981, Training Loss: 2.30091, Training Accuracy:   4.0%\n",
            "Epoch:    991, Training Loss: 2.30907, Training Accuracy:   7.0%\n",
            "CPU times: user 11min 16s, sys: 7.27 s, total: 11min 23s\n",
            "Wall time: 5min 48s\n"
          ],
          "name": "stdout"
        }
      ]
    },
    {
      "cell_type": "code",
      "metadata": {
        "id": "wzrUcQ-Wz0TT",
        "colab_type": "code",
        "outputId": "fbad3b1a-d709-456f-c6f7-264d4a96f4b9",
        "colab": {
          "base_uri": "https://localhost:8080/",
          "height": 34
        }
      },
      "source": [
        "print_test_accuracy()"
      ],
      "execution_count": 81,
      "outputs": [
        {
          "output_type": "stream",
          "text": [
            "Accuracy on Test-Set: 10.9% (1092 / 10000)\n"
          ],
          "name": "stdout"
        }
      ]
    },
    {
      "cell_type": "code",
      "metadata": {
        "id": "L-JyPrTx1ifo",
        "colab_type": "code",
        "outputId": "b5a38064-794d-4e8e-ccce-54476eb56d63",
        "colab": {
          "base_uri": "https://localhost:8080/",
          "height": 282
        }
      },
      "source": [
        "import matplotlib.pyplot as plt\n",
        "plt.plot(acc_list)\n",
        "plt.plot(acc_list1)"
      ],
      "execution_count": 82,
      "outputs": [
        {
          "output_type": "execute_result",
          "data": {
            "text/plain": [
              "[<matplotlib.lines.Line2D at 0x7f4e247da438>]"
            ]
          },
          "metadata": {
            "tags": []
          },
          "execution_count": 82
        },
        {
          "output_type": "display_data",
          "data": {
            "image/png": "[encoded data removed]",
            "text/plain": [
              "<Figure size 432x288 with 1 Axes>"
            ]
          },
          "metadata": {
            "tags": []
          }
        }
      ]
    },
    {
      "cell_type": "code",
      "metadata": {
        "id": "_4_Rfuau1o5p",
        "colab_type": "code",
        "outputId": "cec5319f-665c-4576-cfc6-c3769d182b33",
        "colab": {
          "base_uri": "https://localhost:8080/",
          "height": 282
        }
      },
      "source": [
        "plt.plot(los_list)\n",
        "plt.plot(los_list1)"
      ],
      "execution_count": 83,
      "outputs": [
        {
          "output_type": "execute_result",
          "data": {
            "text/plain": [
              "[<matplotlib.lines.Line2D at 0x7f4e244fac88>]"
            ]
          },
          "metadata": {
            "tags": []
          },
          "execution_count": 83
        },
        {
          "output_type": "display_data",
          "data": {
            "image/png": "[encoded data removed]",
            "text/plain": [
              "<Figure size 432x288 with 1 Axes>"
            ]
          },
          "metadata": {
            "tags": []
          }
        }
      ]
    },
    {
      "cell_type": "code",
      "metadata": {
        "id": "3NYnqEHH16Hh",
        "colab_type": "code",
        "colab": {}
      },
      "source": [
        "session2 = tf.Session()"
      ],
      "execution_count": 0,
      "outputs": []
    },
    {
      "cell_type": "code",
      "metadata": {
        "id": "y6DXgDg62CQf",
        "colab_type": "code",
        "colab": {}
      },
      "source": [
        "session2.run(tf.global_variables_initializer())"
      ],
      "execution_count": 0,
      "outputs": []
    },
    {
      "cell_type": "code",
      "metadata": {
        "id": "RlQN8KY12FsG",
        "colab_type": "code",
        "outputId": "a925431d-2171-4207-b317-bf93e894a986",
        "colab": {
          "base_uri": "https://localhost:8080/",
          "height": 34
        }
      },
      "source": [
        "grads2 = tf.gradients(loss2, weights_fc_out2)[0]\n",
        "print(grads2)"
      ],
      "execution_count": 0,
      "outputs": [
        {
          "output_type": "stream",
          "text": [
            "Tensor(\"gradients_7/layer_fc_out2/MatMul_grad/MatMul_1:0\", shape=(128, 10), dtype=float32)\n"
          ],
          "name": "stdout"
        }
      ]
    },
    {
      "cell_type": "code",
      "metadata": {
        "id": "FtPA--LL2OGZ",
        "colab_type": "code",
        "outputId": "458dd34c-5c0f-4c91-f330-16296e087341",
        "colab": {
          "base_uri": "https://localhost:8080/",
          "height": 34
        }
      },
      "source": [
        "hessian2 = tf.reduce_sum(tf.hessians(loss2, weights_fc_out2)[0], axis = 2)\n",
        "print(hessian2)"
      ],
      "execution_count": 0,
      "outputs": [
        {
          "output_type": "stream",
          "text": [
            "Tensor(\"Sum_2:0\", shape=(128, 10, 10), dtype=float32)\n"
          ],
          "name": "stdout"
        }
      ]
    },
    {
      "cell_type": "code",
      "metadata": {
        "id": "fuR2uukI2UVo",
        "colab_type": "code",
        "colab": {}
      },
      "source": [
        "# Counter for total number of iterations performed so far.\n",
        "total_iterations2 = 0\n",
        "los_list2 = []\n",
        "acc_list2 = []\n",
        "grad_list2 = []\n",
        "hess_list2 = []\n",
        "\n",
        "\n",
        "def optimize(num_iterations2):\n",
        "    global total_iterations2\n",
        "\n",
        "    for i in range(total_iterations2,total_iterations2 + num_iterations2):\n",
        "        x_batch2, y_true_batch2 = data.train.next_batch(train_batch_size)\n",
        "        feed_dict_train2 = {x2: x_batch2,y_true2: y_true_batch2}\n",
        "        session.run(optimizer2, feed_dict=feed_dict_train2)\n",
        "        w2 = session.run(weights_fc_out2)\n",
        "        if i % 10 == 0:\n",
        "            los2, acc2 = session.run([loss2, accuracy2], feed_dict=feed_dict_train2)            \n",
        "            grads_vals2, hess_vals2 = session.run([grads2, hessian2], feed_dict=feed_dict_train2)\n",
        "            msg2 = \"Epoch: {0:>6}, Training Loss: {1:>1.6}, Training Accuracy: {2:>6.1%}\"\n",
        "            print(msg2.format(i + 1, los2, acc2))\n",
        "            los_list2.append(los2)\n",
        "            acc_list2.append(acc2)\n",
        "            norm2 = math.sqrt(sum([sum(pow(grads_val2,2)) for grads_val2 in grads_vals2]))\n",
        "            grad_list.append(norm2)\n",
        "        #grad_list.append(np.linalg.norm(grads_vals))\n",
        "            hess_list.append(np.linalg.norm(hess_vals2))\n",
        "    total_iterations2 += num_iterations2\n",
        "\n"
      ],
      "execution_count": 0,
      "outputs": []
    },
    {
      "cell_type": "code",
      "metadata": {
        "id": "AfnnMIAQ3QFd",
        "colab_type": "code",
        "outputId": "5f56f301-b575-4257-e034-12366e8cf797",
        "colab": {
          "base_uri": "https://localhost:8080/",
          "height": 1000
        }
      },
      "source": [
        "%%time\n",
        "optimize(num_iterations2=999) # We already performed 1 iteration above."
      ],
      "execution_count": 0,
      "outputs": [
        {
          "output_type": "stream",
          "text": [
            "Epoch:      1, Training Loss: 2.28188, Training Accuracy:  24.0%\n",
            "Epoch:     11, Training Loss: 2.16132, Training Accuracy:  36.0%\n",
            "Epoch:     21, Training Loss: 1.99542, Training Accuracy:  57.0%\n",
            "Epoch:     31, Training Loss: 1.73672, Training Accuracy:  70.0%\n",
            "Epoch:     41, Training Loss: 1.40018, Training Accuracy:  74.0%\n",
            "Epoch:     51, Training Loss: 1.03106, Training Accuracy:  72.0%\n",
            "Epoch:     61, Training Loss: 0.822908, Training Accuracy:  79.0%\n",
            "Epoch:     71, Training Loss: 0.582336, Training Accuracy:  84.0%\n",
            "Epoch:     81, Training Loss: 0.539115, Training Accuracy:  87.0%\n",
            "Epoch:     91, Training Loss: 0.549707, Training Accuracy:  85.0%\n",
            "Epoch:    101, Training Loss: 0.356128, Training Accuracy:  91.0%\n",
            "Epoch:    111, Training Loss: 0.378514, Training Accuracy:  87.0%\n",
            "Epoch:    121, Training Loss: 0.333621, Training Accuracy:  93.0%\n",
            "Epoch:    131, Training Loss: 0.368142, Training Accuracy:  88.0%\n",
            "Epoch:    141, Training Loss: 0.296021, Training Accuracy:  92.0%\n",
            "Epoch:    151, Training Loss: 0.313472, Training Accuracy:  91.0%\n",
            "Epoch:    161, Training Loss: 0.386761, Training Accuracy:  88.0%\n",
            "Epoch:    171, Training Loss: 0.227683, Training Accuracy:  96.0%\n",
            "Epoch:    181, Training Loss: 0.30562, Training Accuracy:  91.0%\n",
            "Epoch:    191, Training Loss: 0.251938, Training Accuracy:  92.0%\n",
            "Epoch:    201, Training Loss: 0.167067, Training Accuracy:  97.0%\n",
            "Epoch:    211, Training Loss: 0.204483, Training Accuracy:  96.0%\n",
            "Epoch:    221, Training Loss: 0.303676, Training Accuracy:  91.0%\n",
            "Epoch:    231, Training Loss: 0.372175, Training Accuracy:  89.0%\n",
            "Epoch:    241, Training Loss: 0.232512, Training Accuracy:  94.0%\n",
            "Epoch:    251, Training Loss: 0.191438, Training Accuracy:  93.0%\n",
            "Epoch:    261, Training Loss: 0.297719, Training Accuracy:  91.0%\n",
            "Epoch:    271, Training Loss: 0.119774, Training Accuracy:  98.0%\n",
            "Epoch:    281, Training Loss: 0.196954, Training Accuracy:  96.0%\n",
            "Epoch:    291, Training Loss: 0.196517, Training Accuracy:  93.0%\n",
            "Epoch:    301, Training Loss: 0.26712, Training Accuracy:  93.0%\n",
            "Epoch:    311, Training Loss: 0.209275, Training Accuracy:  94.0%\n",
            "Epoch:    321, Training Loss: 0.157697, Training Accuracy:  95.0%\n",
            "Epoch:    331, Training Loss: 0.218985, Training Accuracy:  95.0%\n",
            "Epoch:    341, Training Loss: 0.182602, Training Accuracy:  93.0%\n",
            "Epoch:    351, Training Loss: 0.173314, Training Accuracy:  93.0%\n",
            "Epoch:    361, Training Loss: 0.147087, Training Accuracy:  96.0%\n",
            "Epoch:    371, Training Loss: 0.176587, Training Accuracy:  92.0%\n",
            "Epoch:    381, Training Loss: 0.139554, Training Accuracy:  96.0%\n",
            "Epoch:    391, Training Loss: 0.267336, Training Accuracy:  92.0%\n",
            "Epoch:    401, Training Loss: 0.202687, Training Accuracy:  95.0%\n",
            "Epoch:    411, Training Loss: 0.222046, Training Accuracy:  92.0%\n",
            "Epoch:    421, Training Loss: 0.0908652, Training Accuracy:  97.0%\n",
            "Epoch:    431, Training Loss: 0.198779, Training Accuracy:  95.0%\n",
            "Epoch:    441, Training Loss: 0.190195, Training Accuracy:  93.0%\n",
            "Epoch:    451, Training Loss: 0.128982, Training Accuracy:  96.0%\n",
            "Epoch:    461, Training Loss: 0.100364, Training Accuracy:  96.0%\n",
            "Epoch:    471, Training Loss: 0.130898, Training Accuracy:  97.0%\n",
            "Epoch:    481, Training Loss: 0.162682, Training Accuracy:  97.0%\n",
            "Epoch:    491, Training Loss: 0.128667, Training Accuracy:  96.0%\n",
            "Epoch:    501, Training Loss: 0.186786, Training Accuracy:  94.0%\n",
            "Epoch:    511, Training Loss: 0.202715, Training Accuracy:  97.0%\n",
            "Epoch:    521, Training Loss: 0.193927, Training Accuracy:  94.0%\n",
            "Epoch:    531, Training Loss: 0.134444, Training Accuracy:  96.0%\n",
            "Epoch:    541, Training Loss: 0.118088, Training Accuracy:  98.0%\n",
            "Epoch:    551, Training Loss: 0.125346, Training Accuracy:  95.0%\n",
            "Epoch:    561, Training Loss: 0.103985, Training Accuracy:  96.0%\n",
            "Epoch:    571, Training Loss: 0.163149, Training Accuracy:  96.0%\n",
            "Epoch:    581, Training Loss: 0.142812, Training Accuracy:  97.0%\n",
            "Epoch:    591, Training Loss: 0.289144, Training Accuracy:  91.0%\n",
            "Epoch:    601, Training Loss: 0.0869341, Training Accuracy:  98.0%\n",
            "Epoch:    611, Training Loss: 0.153658, Training Accuracy:  97.0%\n",
            "Epoch:    621, Training Loss: 0.0927128, Training Accuracy:  97.0%\n",
            "Epoch:    631, Training Loss: 0.0849164, Training Accuracy:  95.0%\n",
            "Epoch:    641, Training Loss: 0.084516, Training Accuracy:  98.0%\n",
            "Epoch:    651, Training Loss: 0.0828618, Training Accuracy:  98.0%\n",
            "Epoch:    661, Training Loss: 0.136704, Training Accuracy:  97.0%\n",
            "Epoch:    671, Training Loss: 0.131618, Training Accuracy:  95.0%\n",
            "Epoch:    681, Training Loss: 0.076049, Training Accuracy:  97.0%\n",
            "Epoch:    691, Training Loss: 0.163753, Training Accuracy:  96.0%\n",
            "Epoch:    701, Training Loss: 0.0723421, Training Accuracy:  97.0%\n",
            "Epoch:    711, Training Loss: 0.0936284, Training Accuracy:  97.0%\n",
            "Epoch:    721, Training Loss: 0.137114, Training Accuracy:  96.0%\n",
            "Epoch:    731, Training Loss: 0.0682019, Training Accuracy:  99.0%\n",
            "Epoch:    741, Training Loss: 0.111037, Training Accuracy:  97.0%\n",
            "Epoch:    751, Training Loss: 0.186732, Training Accuracy:  95.0%\n",
            "Epoch:    761, Training Loss: 0.113119, Training Accuracy:  97.0%\n",
            "Epoch:    771, Training Loss: 0.0930141, Training Accuracy:  98.0%\n",
            "Epoch:    781, Training Loss: 0.0524768, Training Accuracy:  99.0%\n",
            "Epoch:    791, Training Loss: 0.077512, Training Accuracy:  97.0%\n",
            "Epoch:    801, Training Loss: 0.105431, Training Accuracy:  97.0%\n",
            "Epoch:    811, Training Loss: 0.0711631, Training Accuracy:  98.0%\n",
            "Epoch:    821, Training Loss: 0.0511254, Training Accuracy:  98.0%\n",
            "Epoch:    831, Training Loss: 0.096105, Training Accuracy:  96.0%\n",
            "Epoch:    841, Training Loss: 0.124189, Training Accuracy:  94.0%\n",
            "Epoch:    851, Training Loss: 0.0531301, Training Accuracy:  99.0%\n",
            "Epoch:    861, Training Loss: 0.0649993, Training Accuracy:  99.0%\n",
            "Epoch:    871, Training Loss: 0.151868, Training Accuracy:  97.0%\n",
            "Epoch:    881, Training Loss: 0.107308, Training Accuracy:  97.0%\n",
            "Epoch:    891, Training Loss: 0.101785, Training Accuracy:  97.0%\n",
            "Epoch:    901, Training Loss: 0.0942216, Training Accuracy:  98.0%\n",
            "Epoch:    911, Training Loss: 0.0914865, Training Accuracy:  98.0%\n",
            "Epoch:    921, Training Loss: 0.0985322, Training Accuracy:  96.0%\n",
            "Epoch:    931, Training Loss: 0.0649801, Training Accuracy:  99.0%\n",
            "Epoch:    941, Training Loss: 0.126973, Training Accuracy:  97.0%\n",
            "Epoch:    951, Training Loss: 0.0623999, Training Accuracy:  99.0%\n",
            "Epoch:    961, Training Loss: 0.0376273, Training Accuracy: 100.0%\n",
            "Epoch:    971, Training Loss: 0.0481052, Training Accuracy: 100.0%\n",
            "Epoch:    981, Training Loss: 0.124316, Training Accuracy:  96.0%\n",
            "Epoch:    991, Training Loss: 0.0416473, Training Accuracy: 100.0%\n",
            "CPU times: user 24min 30s, sys: 10.9 s, total: 24min 40s\n",
            "Wall time: 12min 32s\n"
          ],
          "name": "stdout"
        }
      ]
    },
    {
      "cell_type": "code",
      "metadata": {
        "id": "kmi47m7x3Wka",
        "colab_type": "code",
        "outputId": "ec27d256-dc7f-466c-fd67-578272cae25a",
        "colab": {
          "base_uri": "https://localhost:8080/",
          "height": 34
        }
      },
      "source": [
        "print_test_accuracy()"
      ],
      "execution_count": 0,
      "outputs": [
        {
          "output_type": "stream",
          "text": [
            "Accuracy on Test-Set: 95.7% (9572 / 10000)\n"
          ],
          "name": "stdout"
        }
      ]
    },
    {
      "cell_type": "code",
      "metadata": {
        "id": "CePLxa_T4KnK",
        "colab_type": "code",
        "outputId": "7dce04ce-6d4d-4cdb-cc47-a9344f8385cc",
        "colab": {
          "base_uri": "https://localhost:8080/",
          "height": 295
        }
      },
      "source": [
        "import matplotlib.pyplot as plt\n",
        "\n",
        "plt.plot(acc_list,label = 'Model 1')\n",
        "plt.plot(acc_list1,label = 'Model 2')\n",
        "plt.plot(acc_list2,label = 'Model 3')\n",
        "plt.title('Accuracy Plot')\n",
        "plt.xlabel('Epoch')\n",
        "plt.ylabel('Accuracy')\n",
        "plt.legend();"
      ],
      "execution_count": 0,
      "outputs": [
        {
          "output_type": "display_data",
          "data": {
            "image/png": "[encoded data removed]",
            "text/plain": [
              "<Figure size 432x288 with 1 Axes>"
            ]
          },
          "metadata": {
            "tags": []
          }
        }
      ]
    },
    {
      "cell_type": "code",
      "metadata": {
        "id": "7wetqBTY4L5a",
        "colab_type": "code",
        "outputId": "06dac323-9de9-4328-e59e-9c800d348121",
        "colab": {
          "base_uri": "https://localhost:8080/",
          "height": 295
        }
      },
      "source": [
        "\n",
        "plt.plot(los_list,label = 'Model 1')\n",
        "plt.plot(los_list1,label = 'Model 2')\n",
        "plt.plot(los_list2,label = 'Model 3')\n",
        "plt.title('Loss Plot')\n",
        "plt.xlabel('Epoch')\n",
        "plt.ylabel('Loss')\n",
        "plt.legend();"
      ],
      "execution_count": 0,
      "outputs": [
        {
          "output_type": "display_data",
          "data": {
            "image/png": "[encoded data removed]",
            "text/plain": [
              "<Figure size 432x288 with 1 Axes>"
            ]
          },
          "metadata": {
            "tags": []
          }
        }
      ]
    },
    {
      "cell_type": "code",
      "metadata": {
        "id": "1-4SojezB7CG",
        "colab_type": "code",
        "outputId": "518ccc11-0a07-4b2d-b328-67623ec4cc1f",
        "colab": {
          "base_uri": "https://localhost:8080/",
          "height": 86
        }
      },
      "source": [
        "data1 = input_data.read_data_sets('data/MNIST/', one_hot=True)\n",
        "np.random.shuffle(data1.train.labels)"
      ],
      "execution_count": 0,
      "outputs": [
        {
          "output_type": "stream",
          "text": [
            "Extracting data/MNIST/train-images-idx3-ubyte.gz\n",
            "Extracting data/MNIST/train-labels-idx1-ubyte.gz\n",
            "Extracting data/MNIST/t10k-images-idx3-ubyte.gz\n",
            "Extracting data/MNIST/t10k-labels-idx1-ubyte.gz\n"
          ],
          "name": "stdout"
        }
      ]
    },
    {
      "cell_type": "code",
      "metadata": {
        "id": "fgQQ690YCUJd",
        "colab_type": "code",
        "colab": {}
      },
      "source": [
        ""
      ],
      "execution_count": 0,
      "outputs": []
    }
  ]
}