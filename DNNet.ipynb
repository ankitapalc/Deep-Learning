{
 "cells": [
  {
   "cell_type": "code",
   "execution_count": 1,
   "metadata": {},
   "outputs": [],
   "source": [
    "import tensorflow as tf\n",
    "import matplotlib.pyplot as plt\n",
    "import numpy as np\n",
    "tf.logging.set_verbosity(tf.logging.ERROR)  # or any {DEBUG, INFO, WARN, ERROR, FATAL}"
   ]
  },
  {
   "cell_type": "code",
   "execution_count": 2,
   "metadata": {},
   "outputs": [
    {
     "data": {
      "text/plain": [
       "'1.15.0'"
      ]
     },
     "execution_count": 2,
     "metadata": {},
     "output_type": "execute_result"
    }
   ],
   "source": [
    "tf.__version__"
   ]
  },
  {
   "cell_type": "code",
   "execution_count": 3,
   "metadata": {},
   "outputs": [],
   "source": [
    "tf.set_random_seed(1)\n",
    "np.random.seed(1)"
   ]
  },
  {
   "cell_type": "code",
   "execution_count": 4,
   "metadata": {},
   "outputs": [
    {
     "name": "stdout",
     "output_type": "stream",
     "text": [
      "Extracting MNIST_data/train-images-idx3-ubyte.gz\n",
      "Extracting MNIST_data/train-labels-idx1-ubyte.gz\n",
      "Extracting MNIST_data/t10k-images-idx3-ubyte.gz\n",
      "Extracting MNIST_data/t10k-labels-idx1-ubyte.gz\n"
     ]
    }
   ],
   "source": [
    "from tensorflow.examples.tutorials.mnist import input_data\n",
    "x = input_data.read_data_sets(\"MNIST_data/\", one_hot=True)  # y labels are oh-encoded"
   ]
  },
  {
   "cell_type": "code",
   "execution_count": 5,
   "metadata": {},
   "outputs": [
    {
     "name": "stdout",
     "output_type": "stream",
     "text": [
      "Size of:\n",
      "- Training-set:\t 55000\n",
      "- Test-set:\t 10000\n",
      "- Validation-set: 5000\n"
     ]
    }
   ],
   "source": [
    "n_train = x.train.num_examples\n",
    "n_validation = x.validation.num_examples\n",
    "n_test = x.test.num_examples\n",
    "print(\"Size of:\")\n",
    "print(\"- Training-set:\\t\",n_train)\n",
    "print(\"- Test-set:\\t\",n_test)\n",
    "print(\"- Validation-set:\",n_validation)"
   ]
  },
  {
   "cell_type": "code",
   "execution_count": 6,
   "metadata": {},
   "outputs": [],
   "source": [
    "input_x = tf.placeholder(tf.float32, [None, 784])\n",
    "output_y = tf.placeholder(tf.float32, [None, 10])\n",
    "keep_prob = tf.placeholder(tf.float32)"
   ]
  },
  {
   "cell_type": "code",
   "execution_count": 7,
   "metadata": {},
   "outputs": [],
   "source": [
    "def plot_images(images, cls_true, cls_pred=None):\n",
    "    assert len(images) == len(cls_true) == 9\n",
    "    \n",
    "    # Create figure with 3x3 sub-plots.\n",
    "    fig, axes = plt.subplots(3, 3)\n",
    "    fig.subplots_adjust(hspace=0.3, wspace=0.3)\n",
    "\n",
    "    for i, ax in enumerate(axes.flat):\n",
    "        # Plot image.\n",
    "        ax.imshow(images[i].reshape((28,28)), cmap='binary')\n",
    "\n",
    "        # Show true and predicted classes.\n",
    "        if cls_pred is None:\n",
    "            xlabel = \"True: {0}\".format(cls_true[i])\n",
    "        else:\n",
    "            xlabel = \"True: {0}, Pred: {1}\".format(cls_true[i], cls_pred[i])\n",
    "\n",
    "        # Show the classes as the label on the x-axis.\n",
    "        ax.set_xlabel(xlabel)\n",
    "        \n",
    "        # Remove ticks from the plot.\n",
    "        ax.set_xticks([])\n",
    "        ax.set_yticks([])\n",
    "    \n",
    "    # Ensure the plot is shown correctly with multiple plots\n",
    "    # in a single Notebook cell.\n",
    "    plt.show()"
   ]
  },
  {
   "cell_type": "code",
   "execution_count": 8,
   "metadata": {},
   "outputs": [
    {
     "data": {
      "image/png": "[encoded data removed]",
      "text/plain": [
       "<Figure size 432x288 with 9 Axes>"
      ]
     },
     "metadata": {},
     "output_type": "display_data"
    }
   ],
   "source": [
    "x.test.cls = np.argmax(x.test.labels, axis=1)\n",
    "# Get the first images from the test-set.\n",
    "images = x.test.images[0:9]\n",
    "\n",
    "# Get the true classes for those images.\n",
    "cls_true = x.test.cls[0:9]\n",
    "\n",
    "# Plot the images and labels using our helper-function above.\n",
    "plot_images(images=images, cls_true=cls_true)"
   ]
  },
  {
   "cell_type": "code",
   "execution_count": 9,
   "metadata": {},
   "outputs": [],
   "source": [
    "weights = {\n",
    "    'w1': tf.Variable(tf.truncated_normal([784, 512], stddev=0.1)),\n",
    "    'w2': tf.Variable(tf.truncated_normal([512, 128], stddev=0.1)),\n",
    "    'w3': tf.Variable(tf.truncated_normal([128, 50], stddev=0.1)),\n",
    "    'out': tf.Variable(tf.truncated_normal([50, 10], stddev=0.1)),\n",
    "}\n",
    "biases = {\n",
    "    'b1': tf.Variable(tf.constant(.01, shape=[512])),\n",
    "    'b2': tf.Variable(tf.constant(.01, shape=[128])),\n",
    "    'b3': tf.Variable(tf.constant(.01, shape=[50])),\n",
    "    'out': tf.Variable(tf.constant(.01, shape=[10]))\n",
    "}\n",
    "layer_1 = tf.add(tf.matmul(input_x, weights['w1']), biases['b1'])\n",
    "layer_2 = tf.add(tf.matmul(layer_1, weights['w2']), biases['b2'])\n",
    "layer_3 = tf.add(tf.matmul(layer_2, weights['w3']), biases['b3'])\n",
    "layer_drop = tf.nn.dropout(layer_3, keep_prob)\n",
    "output_layer = tf.matmul(layer_3, weights['out']) + biases['out']"
   ]
  },
  {
   "cell_type": "code",
   "execution_count": 10,
   "metadata": {},
   "outputs": [],
   "source": [
    "loss = tf.losses.mean_squared_error(output_y, output_layer)\n",
    "train_op = tf.train.GradientDescentOptimizer(learning_rate=0.05).minimize(loss)"
   ]
  },
  {
   "cell_type": "code",
   "execution_count": 11,
   "metadata": {},
   "outputs": [],
   "source": [
    "correct_pred = tf.equal(tf.argmax(output_layer, 1), tf.argmax(output_y, 1))\n",
    "accuracy = tf.reduce_mean(tf.cast(correct_pred, tf.float32))"
   ]
  },
  {
   "cell_type": "code",
   "execution_count": 12,
   "metadata": {},
   "outputs": [
    {
     "name": "stdout",
     "output_type": "stream",
     "text": [
      "<tf.Variable 'Variable:0' shape=(784, 512) dtype=float32_ref>\n",
      "(784, 512)\n",
      "401408\n",
      "<tf.Variable 'Variable_1:0' shape=(512, 128) dtype=float32_ref>\n",
      "(512, 128)\n",
      "65536\n",
      "<tf.Variable 'Variable_2:0' shape=(128, 50) dtype=float32_ref>\n",
      "(128, 50)\n",
      "6400\n",
      "<tf.Variable 'Variable_3:0' shape=(50, 10) dtype=float32_ref>\n",
      "(50, 10)\n",
      "500\n",
      "<tf.Variable 'Variable_4:0' shape=(512,) dtype=float32_ref>\n",
      "(512,)\n",
      "512\n",
      "<tf.Variable 'Variable_5:0' shape=(128,) dtype=float32_ref>\n",
      "(128,)\n",
      "128\n",
      "<tf.Variable 'Variable_6:0' shape=(50,) dtype=float32_ref>\n",
      "(50,)\n",
      "50\n",
      "<tf.Variable 'Variable_7:0' shape=(10,) dtype=float32_ref>\n",
      "(10,)\n",
      "10\n",
      "474544\n"
     ]
    }
   ],
   "source": [
    "total_parameters = 0\n",
    "for variable in tf.trainable_variables():\n",
    "    # shape is an array of tf.Dimension\n",
    "    print(variable)\n",
    "    shape = variable.get_shape()\n",
    "    print(shape)\n",
    "    #print(len(shape))\n",
    "    variable_parameters = 1\n",
    "    for dim in shape:\n",
    "        #print(dim)\n",
    "        variable_parameters *= dim.value\n",
    "    print(variable_parameters)\n",
    "    total_parameters += variable_parameters\n",
    "print(total_parameters)"
   ]
  },
  {
   "cell_type": "code",
   "execution_count": 13,
   "metadata": {},
   "outputs": [],
   "source": [
    "sess = tf.Session()# control training and others"
   ]
  },
  {
   "cell_type": "code",
   "execution_count": 14,
   "metadata": {},
   "outputs": [],
   "source": [
    "sess.run(tf.global_variables_initializer())# initialize var in graph"
   ]
  },
  {
   "cell_type": "code",
   "execution_count": 15,
   "metadata": {},
   "outputs": [
    {
     "name": "stdout",
     "output_type": "stream",
     "text": [
      "Iteration 0 \t| Loss = 1.1429334 \t| Accuracy = 0.09\n",
      "Iteration 100 \t| Loss = 0.070004806 \t| Accuracy = 0.688\n",
      "Iteration 200 \t| Loss = 0.057950493 \t| Accuracy = 0.756\n",
      "Iteration 300 \t| Loss = 0.05275521 \t| Accuracy = 0.788\n",
      "Iteration 400 \t| Loss = 0.050409522 \t| Accuracy = 0.808\n",
      "Iteration 500 \t| Loss = 0.047369253 \t| Accuracy = 0.824\n",
      "Iteration 600 \t| Loss = 0.047253978 \t| Accuracy = 0.83\n",
      "Iteration 700 \t| Loss = 0.047382697 \t| Accuracy = 0.812\n",
      "Iteration 800 \t| Loss = 0.04770663 \t| Accuracy = 0.796\n",
      "Iteration 900 \t| Loss = 0.045560863 \t| Accuracy = 0.854\n",
      "Iteration 1000 \t| Loss = 0.04637561 \t| Accuracy = 0.828\n",
      "Iteration 1100 \t| Loss = 0.04344598 \t| Accuracy = 0.85\n",
      "Iteration 1200 \t| Loss = 0.0441867 \t| Accuracy = 0.836\n",
      "Iteration 1300 \t| Loss = 0.043172803 \t| Accuracy = 0.85\n",
      "Iteration 1400 \t| Loss = 0.04108755 \t| Accuracy = 0.854\n",
      "Iteration 1500 \t| Loss = 0.04374044 \t| Accuracy = 0.822\n",
      "Iteration 1600 \t| Loss = 0.0440094 \t| Accuracy = 0.816\n",
      "Iteration 1700 \t| Loss = 0.04190152 \t| Accuracy = 0.838\n",
      "Iteration 1800 \t| Loss = 0.04203711 \t| Accuracy = 0.856\n",
      "Iteration 1900 \t| Loss = 0.04193879 \t| Accuracy = 0.838\n",
      "Iteration 2000 \t| Loss = 0.042096063 \t| Accuracy = 0.846\n",
      "Iteration 2100 \t| Loss = 0.044935457 \t| Accuracy = 0.838\n",
      "Iteration 2200 \t| Loss = 0.044073585 \t| Accuracy = 0.83\n",
      "Iteration 2300 \t| Loss = 0.04295997 \t| Accuracy = 0.844\n",
      "Iteration 2400 \t| Loss = 0.04424724 \t| Accuracy = 0.826\n",
      "Iteration 2500 \t| Loss = 0.0424412 \t| Accuracy = 0.844\n",
      "Iteration 2600 \t| Loss = 0.040700633 \t| Accuracy = 0.864\n",
      "Iteration 2700 \t| Loss = 0.042715177 \t| Accuracy = 0.838\n",
      "Iteration 2800 \t| Loss = 0.040726423 \t| Accuracy = 0.86\n",
      "Iteration 2900 \t| Loss = 0.04417018 \t| Accuracy = 0.828\n",
      "Iteration 3000 \t| Loss = 0.04300696 \t| Accuracy = 0.832\n",
      "Iteration 3100 \t| Loss = 0.042056397 \t| Accuracy = 0.85\n",
      "Iteration 3200 \t| Loss = 0.040965654 \t| Accuracy = 0.884\n",
      "Iteration 3300 \t| Loss = 0.044561747 \t| Accuracy = 0.822\n",
      "Iteration 3400 \t| Loss = 0.042895637 \t| Accuracy = 0.836\n",
      "Iteration 3500 \t| Loss = 0.040725544 \t| Accuracy = 0.864\n",
      "Iteration 3600 \t| Loss = 0.04194101 \t| Accuracy = 0.858\n",
      "Iteration 3700 \t| Loss = 0.040711902 \t| Accuracy = 0.85\n",
      "Iteration 3800 \t| Loss = 0.04205804 \t| Accuracy = 0.868\n",
      "Iteration 3900 \t| Loss = 0.04198892 \t| Accuracy = 0.83\n",
      "Iteration 4000 \t| Loss = 0.041127924 \t| Accuracy = 0.842\n",
      "Iteration 4100 \t| Loss = 0.040215492 \t| Accuracy = 0.856\n",
      "Iteration 4200 \t| Loss = 0.04034051 \t| Accuracy = 0.846\n",
      "Iteration 4300 \t| Loss = 0.04046539 \t| Accuracy = 0.854\n",
      "Iteration 4400 \t| Loss = 0.04144566 \t| Accuracy = 0.848\n",
      "Iteration 4500 \t| Loss = 0.043374434 \t| Accuracy = 0.83\n",
      "Iteration 4600 \t| Loss = 0.041342396 \t| Accuracy = 0.846\n",
      "Iteration 4700 \t| Loss = 0.039489128 \t| Accuracy = 0.872\n",
      "Iteration 4800 \t| Loss = 0.040742427 \t| Accuracy = 0.86\n",
      "Iteration 4900 \t| Loss = 0.040211756 \t| Accuracy = 0.876\n"
     ]
    }
   ],
   "source": [
    "# train on mini batches\n",
    "import random as rd\n",
    "loss_list=[]\n",
    "train_accuracy_list = []\n",
    "for i in range(5000):\n",
    "    batch_x, batch_y = x.train.next_batch(500)\n",
    "    sess.run(train_op, feed_dict={input_x: batch_x, output_y: batch_y, keep_prob: 0.5})\n",
    "\n",
    "    # print loss and accuracy (per minibatch)\n",
    "    if i % 100 == 0:\n",
    "        minibatch_loss, minibatch_accuracy = sess.run([loss, accuracy],feed_dict={input_x: batch_x, output_y: batch_y, keep_prob: 1.0})\n",
    "        print(\"Iteration\",str(i),\"\\t| Loss =\",str(minibatch_loss),\"\\t| Accuracy =\",str(minibatch_accuracy))\n",
    "    loss_list.append(float(minibatch_loss))\n",
    "    train_accuracy_list.append(float(minibatch_accuracy))"
   ]
  },
  {
   "cell_type": "code",
   "execution_count": 16,
   "metadata": {},
   "outputs": [
    {
     "data": {
      "text/plain": [
       "[<matplotlib.lines.Line2D at 0x14dff1089eb8>]"
      ]
     },
     "execution_count": 16,
     "metadata": {},
     "output_type": "execute_result"
    },
    {
     "data": {
      "image/png": "[encoded data removed]",
      "text/plain": [
       "<Figure size 432x288 with 1 Axes>"
      ]
     },
     "metadata": {
      "needs_background": "light"
     },
     "output_type": "display_data"
    }
   ],
   "source": [
    "import matplotlib.pyplot as plt\n",
    "plt.plot(loss_list)"
   ]
  },
  {
   "cell_type": "code",
   "execution_count": 17,
   "metadata": {},
   "outputs": [
    {
     "name": "stdout",
     "output_type": "stream",
     "text": [
      "\n",
      "Accuracy on test set: 0.8592\n"
     ]
    }
   ],
   "source": [
    "test_accuracy = sess.run(accuracy, feed_dict={input_x: x.test.images, output_y: x.test.labels, keep_prob: 1.0})\n",
    "print(\"\\nAccuracy on test set:\", test_accuracy)"
   ]
  },
  {
   "cell_type": "code",
   "execution_count": 18,
   "metadata": {},
   "outputs": [
    {
     "data": {
      "text/plain": [
       "[<matplotlib.lines.Line2D at 0x14dff10c0080>]"
      ]
     },
     "execution_count": 18,
     "metadata": {},
     "output_type": "execute_result"
    },
    {
     "data": {
      "image/png": "[encoded data removed]",
      "text/plain": [
       "<Figure size 432x288 with 1 Axes>"
      ]
     },
     "metadata": {
      "needs_background": "light"
     },
     "output_type": "display_data"
    }
   ],
   "source": [
    "plt.plot(train_accuracy_list)"
   ]
  },
  {
   "cell_type": "code",
   "execution_count": 27,
   "metadata": {},
   "outputs": [],
   "source": [
    "input_x1 = tf.placeholder(tf.float32, [None, 784])\n",
    "output_y1 = tf.placeholder(tf.float32, [None, 10])\n",
    "keep_prob1 = tf.placeholder(tf.float32)"
   ]
  },
  {
   "cell_type": "code",
   "execution_count": 28,
   "metadata": {},
   "outputs": [],
   "source": [
    "weights1 = {\n",
    "    'w11': tf.Variable(tf.truncated_normal([784, 300], stddev=0.05)),\n",
    "    'w31': tf.Variable(tf.truncated_normal([300, 100], stddev=0.05)),\n",
    "    'out1': tf.Variable(tf.truncated_normal([100, 10], stddev=0.05)),\n",
    "}\n",
    "biases1 = {\n",
    "    'b11': tf.Variable(tf.constant(.01, shape=[300])),\n",
    "    'b31': tf.Variable(tf.constant(.01, shape=[100])),\n",
    "    'out1': tf.Variable(tf.constant(.01, shape=[10]))\n",
    "}\n",
    "layer_11 = tf.add(tf.matmul(input_x1, weights1['w11']), biases1['b11'])\n",
    "layer_31 = tf.add(tf.matmul(layer_11, weights1['w31']), biases1['b31'])\n",
    "layer_drop1 = tf.nn.dropout(layer_31, keep_prob1)\n",
    "output_layer1 = tf.matmul(layer_31, weights1['out1']) + biases1['out1']"
   ]
  },
  {
   "cell_type": "code",
   "execution_count": 29,
   "metadata": {},
   "outputs": [],
   "source": [
    "loss1 = tf.losses.mean_squared_error(output_y1, output_layer1)\n",
    "train_op1 = tf.train.AdamOptimizer(1e-4).minimize(loss1)"
   ]
  },
  {
   "cell_type": "code",
   "execution_count": 30,
   "metadata": {},
   "outputs": [],
   "source": [
    "correct_pred1 = tf.equal(tf.argmax(output_layer1, 1), tf.argmax(output_y1, 1))\n",
    "accuracy1 = tf.reduce_mean(tf.cast(correct_pred1, tf.float32))"
   ]
  },
  {
   "cell_type": "code",
   "execution_count": 31,
   "metadata": {},
   "outputs": [],
   "source": [
    "sess = tf.Session()"
   ]
  },
  {
   "cell_type": "code",
   "execution_count": 32,
   "metadata": {},
   "outputs": [],
   "source": [
    "sess.run(tf.global_variables_initializer())"
   ]
  },
  {
   "cell_type": "code",
   "execution_count": 33,
   "metadata": {},
   "outputs": [
    {
     "name": "stdout",
     "output_type": "stream",
     "text": [
      "Iteration 0 \t| Loss = 0.102226995 \t| Accuracy = 0.168\n",
      "Iteration 100 \t| Loss = 0.04484537 \t| Accuracy = 0.83\n",
      "Iteration 200 \t| Loss = 0.04087167 \t| Accuracy = 0.848\n",
      "Iteration 300 \t| Loss = 0.039915513 \t| Accuracy = 0.866\n",
      "Iteration 400 \t| Loss = 0.041804932 \t| Accuracy = 0.836\n",
      "Iteration 500 \t| Loss = 0.042812392 \t| Accuracy = 0.84\n",
      "Iteration 600 \t| Loss = 0.041755933 \t| Accuracy = 0.83\n",
      "Iteration 700 \t| Loss = 0.040120214 \t| Accuracy = 0.85\n",
      "Iteration 800 \t| Loss = 0.03758688 \t| Accuracy = 0.856\n",
      "Iteration 900 \t| Loss = 0.03894215 \t| Accuracy = 0.856\n",
      "Iteration 1000 \t| Loss = 0.034782264 \t| Accuracy = 0.896\n",
      "Iteration 1100 \t| Loss = 0.037137073 \t| Accuracy = 0.864\n",
      "Iteration 1200 \t| Loss = 0.038425438 \t| Accuracy = 0.852\n",
      "Iteration 1300 \t| Loss = 0.040733643 \t| Accuracy = 0.83\n",
      "Iteration 1400 \t| Loss = 0.038144648 \t| Accuracy = 0.86\n",
      "Iteration 1500 \t| Loss = 0.039055128 \t| Accuracy = 0.856\n",
      "Iteration 1600 \t| Loss = 0.03719441 \t| Accuracy = 0.874\n",
      "Iteration 1700 \t| Loss = 0.041515246 \t| Accuracy = 0.838\n",
      "Iteration 1800 \t| Loss = 0.037451304 \t| Accuracy = 0.882\n",
      "Iteration 1900 \t| Loss = 0.03865562 \t| Accuracy = 0.846\n",
      "Iteration 2000 \t| Loss = 0.040009987 \t| Accuracy = 0.834\n",
      "Iteration 2100 \t| Loss = 0.038909856 \t| Accuracy = 0.864\n",
      "Iteration 2200 \t| Loss = 0.040700592 \t| Accuracy = 0.84\n",
      "Iteration 2300 \t| Loss = 0.038960002 \t| Accuracy = 0.854\n",
      "Iteration 2400 \t| Loss = 0.038780678 \t| Accuracy = 0.844\n",
      "Iteration 2500 \t| Loss = 0.03811075 \t| Accuracy = 0.864\n",
      "Iteration 2600 \t| Loss = 0.03832433 \t| Accuracy = 0.86\n",
      "Iteration 2700 \t| Loss = 0.040640123 \t| Accuracy = 0.844\n",
      "Iteration 2800 \t| Loss = 0.036929395 \t| Accuracy = 0.886\n",
      "Iteration 2900 \t| Loss = 0.035421293 \t| Accuracy = 0.87\n",
      "Iteration 3000 \t| Loss = 0.03741862 \t| Accuracy = 0.878\n",
      "Iteration 3100 \t| Loss = 0.03804695 \t| Accuracy = 0.864\n",
      "Iteration 3200 \t| Loss = 0.037519887 \t| Accuracy = 0.86\n",
      "Iteration 3300 \t| Loss = 0.03830087 \t| Accuracy = 0.85\n",
      "Iteration 3400 \t| Loss = 0.04043225 \t| Accuracy = 0.846\n",
      "Iteration 3500 \t| Loss = 0.037659712 \t| Accuracy = 0.882\n",
      "Iteration 3600 \t| Loss = 0.038236935 \t| Accuracy = 0.878\n",
      "Iteration 3700 \t| Loss = 0.037224017 \t| Accuracy = 0.866\n",
      "Iteration 3800 \t| Loss = 0.038464863 \t| Accuracy = 0.86\n",
      "Iteration 3900 \t| Loss = 0.039086994 \t| Accuracy = 0.872\n",
      "Iteration 4000 \t| Loss = 0.038294386 \t| Accuracy = 0.846\n",
      "Iteration 4100 \t| Loss = 0.037980102 \t| Accuracy = 0.876\n",
      "Iteration 4200 \t| Loss = 0.039587792 \t| Accuracy = 0.85\n",
      "Iteration 4300 \t| Loss = 0.038404625 \t| Accuracy = 0.862\n",
      "Iteration 4400 \t| Loss = 0.038712263 \t| Accuracy = 0.854\n",
      "Iteration 4500 \t| Loss = 0.040468667 \t| Accuracy = 0.824\n",
      "Iteration 4600 \t| Loss = 0.041846234 \t| Accuracy = 0.804\n",
      "Iteration 4700 \t| Loss = 0.039151773 \t| Accuracy = 0.852\n",
      "Iteration 4800 \t| Loss = 0.036279112 \t| Accuracy = 0.878\n",
      "Iteration 4900 \t| Loss = 0.039385986 \t| Accuracy = 0.844\n",
      "Iteration 5000 \t| Loss = 0.039548695 \t| Accuracy = 0.852\n",
      "Iteration 5100 \t| Loss = 0.03720121 \t| Accuracy = 0.852\n",
      "Iteration 5200 \t| Loss = 0.03978076 \t| Accuracy = 0.842\n",
      "Iteration 5300 \t| Loss = 0.035912782 \t| Accuracy = 0.878\n",
      "Iteration 5400 \t| Loss = 0.038173158 \t| Accuracy = 0.846\n",
      "Iteration 5500 \t| Loss = 0.04231135 \t| Accuracy = 0.812\n",
      "Iteration 5600 \t| Loss = 0.03892125 \t| Accuracy = 0.854\n",
      "Iteration 5700 \t| Loss = 0.03738927 \t| Accuracy = 0.854\n",
      "Iteration 5800 \t| Loss = 0.038323157 \t| Accuracy = 0.85\n",
      "Iteration 5900 \t| Loss = 0.037956644 \t| Accuracy = 0.856\n",
      "Iteration 6000 \t| Loss = 0.036950197 \t| Accuracy = 0.882\n",
      "Iteration 6100 \t| Loss = 0.03629353 \t| Accuracy = 0.87\n",
      "Iteration 6200 \t| Loss = 0.03869363 \t| Accuracy = 0.864\n",
      "Iteration 6300 \t| Loss = 0.036974102 \t| Accuracy = 0.866\n",
      "Iteration 6400 \t| Loss = 0.038596865 \t| Accuracy = 0.862\n",
      "Iteration 6500 \t| Loss = 0.036852464 \t| Accuracy = 0.884\n",
      "Iteration 6600 \t| Loss = 0.039074298 \t| Accuracy = 0.85\n",
      "Iteration 6700 \t| Loss = 0.038492173 \t| Accuracy = 0.848\n",
      "Iteration 6800 \t| Loss = 0.038947444 \t| Accuracy = 0.842\n",
      "Iteration 6900 \t| Loss = 0.039837524 \t| Accuracy = 0.846\n",
      "Iteration 7000 \t| Loss = 0.038487744 \t| Accuracy = 0.86\n",
      "Iteration 7100 \t| Loss = 0.03675862 \t| Accuracy = 0.874\n",
      "Iteration 7200 \t| Loss = 0.03865004 \t| Accuracy = 0.82\n",
      "Iteration 7300 \t| Loss = 0.040360644 \t| Accuracy = 0.816\n",
      "Iteration 7400 \t| Loss = 0.03912967 \t| Accuracy = 0.848\n",
      "Iteration 7500 \t| Loss = 0.03823769 \t| Accuracy = 0.866\n",
      "Iteration 7600 \t| Loss = 0.03854694 \t| Accuracy = 0.856\n",
      "Iteration 7700 \t| Loss = 0.036668196 \t| Accuracy = 0.864\n",
      "Iteration 7800 \t| Loss = 0.040288277 \t| Accuracy = 0.83\n",
      "Iteration 7900 \t| Loss = 0.036362365 \t| Accuracy = 0.876\n",
      "Iteration 8000 \t| Loss = 0.038496044 \t| Accuracy = 0.874\n",
      "Iteration 8100 \t| Loss = 0.03932764 \t| Accuracy = 0.834\n",
      "Iteration 8200 \t| Loss = 0.039672554 \t| Accuracy = 0.844\n",
      "Iteration 8300 \t| Loss = 0.03944703 \t| Accuracy = 0.85\n",
      "Iteration 8400 \t| Loss = 0.038007855 \t| Accuracy = 0.858\n",
      "Iteration 8500 \t| Loss = 0.03813761 \t| Accuracy = 0.866\n",
      "Iteration 8600 \t| Loss = 0.039488025 \t| Accuracy = 0.844\n",
      "Iteration 8700 \t| Loss = 0.038826525 \t| Accuracy = 0.856\n",
      "Iteration 8800 \t| Loss = 0.03858199 \t| Accuracy = 0.838\n",
      "Iteration 8900 \t| Loss = 0.039036542 \t| Accuracy = 0.846\n",
      "Iteration 9000 \t| Loss = 0.037684843 \t| Accuracy = 0.872\n",
      "Iteration 9100 \t| Loss = 0.038503435 \t| Accuracy = 0.85\n",
      "Iteration 9200 \t| Loss = 0.037476875 \t| Accuracy = 0.86\n",
      "Iteration 9300 \t| Loss = 0.039792884 \t| Accuracy = 0.842\n",
      "Iteration 9400 \t| Loss = 0.03664968 \t| Accuracy = 0.868\n",
      "Iteration 9500 \t| Loss = 0.035415735 \t| Accuracy = 0.868\n",
      "Iteration 9600 \t| Loss = 0.03891956 \t| Accuracy = 0.856\n",
      "Iteration 9700 \t| Loss = 0.038472407 \t| Accuracy = 0.832\n",
      "Iteration 9800 \t| Loss = 0.036845382 \t| Accuracy = 0.874\n",
      "Iteration 9900 \t| Loss = 0.0378878 \t| Accuracy = 0.846\n"
     ]
    }
   ],
   "source": [
    "# train on mini batches\n",
    "import random as rd\n",
    "loss_list1=[]\n",
    "train_accuracy_list1 = []\n",
    "for i in range(10000):\n",
    "    batch_x1, batch_y1 = x.train.next_batch(500)\n",
    "    sess.run(train_op1, feed_dict={input_x1: batch_x1, output_y1: batch_y1, keep_prob1: 0.5})\n",
    "\n",
    "    # print loss and accuracy (per minibatch)\n",
    "    if i % 100 == 0:\n",
    "        minibatch_loss1, minibatch_accuracy1 = sess.run([loss1, accuracy1],feed_dict={input_x1: batch_x1, output_y1: batch_y1, keep_prob1: 1.0})\n",
    "        print(\"Iteration\",str(i),\"\\t| Loss =\",str(minibatch_loss1),\"\\t| Accuracy =\",str(minibatch_accuracy1))\n",
    "    loss_list1.append(float(minibatch_loss1))\n",
    "    train_accuracy_list1.append(float(minibatch_accuracy1))"
   ]
  },
  {
   "cell_type": "code",
   "execution_count": 34,
   "metadata": {},
   "outputs": [
    {
     "data": {
      "text/plain": [
       "[<matplotlib.lines.Line2D at 0x14dfe24d8198>]"
      ]
     },
     "execution_count": 34,
     "metadata": {},
     "output_type": "execute_result"
    },
    {
     "data": {
      "image/png": "[encoded data removed]",
      "text/plain": [
       "<Figure size 432x288 with 1 Axes>"
      ]
     },
     "metadata": {
      "needs_background": "light"
     },
     "output_type": "display_data"
    }
   ],
   "source": [
    "import matplotlib.pyplot as plt\n",
    "plt.plot(loss_list1)"
   ]
  },
  {
   "cell_type": "code",
   "execution_count": 35,
   "metadata": {},
   "outputs": [
    {
     "name": "stdout",
     "output_type": "stream",
     "text": [
      "\n",
      "Accuracy on test set: 0.8595\n"
     ]
    }
   ],
   "source": [
    "test_accuracy1 = sess.run(accuracy1, feed_dict={input_x1: x.test.images, output_y1: x.test.labels, keep_prob1: 1.0})\n",
    "print(\"\\nAccuracy on test set:\", test_accuracy1)"
   ]
  },
  {
   "cell_type": "code",
   "execution_count": 36,
   "metadata": {},
   "outputs": [
    {
     "data": {
      "text/plain": [
       "[<matplotlib.lines.Line2D at 0x14dfeef63f98>]"
      ]
     },
     "execution_count": 36,
     "metadata": {},
     "output_type": "execute_result"
    },
    {
     "data": {
      "image/png": "[encoded data removed]",
      "text/plain": [
       "<Figure size 432x288 with 1 Axes>"
      ]
     },
     "metadata": {
      "needs_background": "light"
     },
     "output_type": "display_data"
    }
   ],
   "source": [
    "plt.plot(train_accuracy_list1)"
   ]
  },
  {
   "cell_type": "code",
   "execution_count": 37,
   "metadata": {},
   "outputs": [
    {
     "data": {
      "text/plain": [
       "[<matplotlib.lines.Line2D at 0x14dfe2470438>]"
      ]
     },
     "execution_count": 37,
     "metadata": {},
     "output_type": "execute_result"
    },
    {
     "data": {
      "image/png": "[encoded data removed]",
      "text/plain": [
       "<Figure size 432x288 with 1 Axes>"
      ]
     },
     "metadata": {
      "needs_background": "light"
     },
     "output_type": "display_data"
    }
   ],
   "source": [
    "plt.plot(loss_list)\n",
    "plt.plot(loss_list1)"
   ]
  },
  {
   "cell_type": "code",
   "execution_count": 38,
   "metadata": {},
   "outputs": [
    {
     "data": {
      "text/plain": [
       "[<matplotlib.lines.Line2D at 0x14dfe2508fd0>]"
      ]
     },
     "execution_count": 38,
     "metadata": {},
     "output_type": "execute_result"
    },
    {
     "data": {
      "image/png": "[encoded data removed]",
      "text/plain": [
       "<Figure size 432x288 with 1 Axes>"
      ]
     },
     "metadata": {
      "needs_background": "light"
     },
     "output_type": "display_data"
    }
   ],
   "source": [
    "plt.plot(train_accuracy_list)\n",
    "plt.plot(train_accuracy_list1)"
   ]
  },
  {
   "cell_type": "code",
   "execution_count": 39,
   "metadata": {},
   "outputs": [],
   "source": [
    "input_x2 = tf.placeholder(tf.float32, [None, 784])\n",
    "output_y2 = tf.placeholder(tf.float32, [None, 10])\n",
    "keep_prob2 = tf.placeholder(tf.float32)"
   ]
  },
  {
   "cell_type": "code",
   "execution_count": 51,
   "metadata": {},
   "outputs": [],
   "source": [
    "weights2 = {\n",
    "    'w12': tf.Variable(tf.truncated_normal([784, 500], stddev=0.1)),\n",
    "    'w22': tf.Variable(tf.truncated_normal([500, 400], stddev=0.1)),\n",
    "    'w32': tf.Variable(tf.truncated_normal([400, 300], stddev=0.1)),\n",
    "    'w42': tf.Variable(tf.truncated_normal([300, 200], stddev=0.1)),\n",
    "    'w52': tf.Variable(tf.truncated_normal([200, 100], stddev=0.1)),\n",
    "    'w62': tf.Variable(tf.truncated_normal([100, 50], stddev=0.1)),\n",
    "    'w72': tf.Variable(tf.truncated_normal([50, 30], stddev=0.1)),\n",
    "    'out2': tf.Variable(tf.truncated_normal([30, 10], stddev=0.1)),\n",
    "}\n",
    "biases2 = {\n",
    "    'b12': tf.Variable(tf.constant(.01, shape=[500])),\n",
    "    'b22': tf.Variable(tf.constant(.02, shape=[400])),\n",
    "    'b32': tf.Variable(tf.constant(.03, shape=[300])),\n",
    "    'b42': tf.Variable(tf.constant(.04, shape=[200])),\n",
    "    'b52': tf.Variable(tf.constant(.05, shape=[100])),\n",
    "    'b62': tf.Variable(tf.constant(.06, shape=[50])),\n",
    "    'b72': tf.Variable(tf.constant(.07, shape=[30])),\n",
    "    'out2': tf.Variable(tf.constant(.08, shape=[10]))\n",
    "}\n",
    "layer_12 = tf.add(tf.matmul(input_x2, weights2['w12']), biases2['b12'])\n",
    "layer_22 = tf.add(tf.matmul(layer_12, weights2['w22']), biases2['b22'])\n",
    "layer_32 = tf.add(tf.matmul(layer_22, weights2['w32']), biases2['b32'])\n",
    "layer_42 = tf.add(tf.matmul(layer_32, weights2['w42']), biases2['b42'])\n",
    "layer_52 = tf.add(tf.matmul(layer_42, weights2['w52']), biases2['b52'])\n",
    "layer_62 = tf.add(tf.matmul(layer_52, weights2['w62']), biases2['b62'])\n",
    "layer_72 = tf.add(tf.matmul(layer_62, weights2['w72']), biases2['b72'])\n",
    "layer_drop2 = tf.nn.dropout(layer_72, keep_prob2)\n",
    "output_layer2 = tf.matmul(layer_72, weights2['out2']) + biases2['out2']"
   ]
  },
  {
   "cell_type": "code",
   "execution_count": 52,
   "metadata": {},
   "outputs": [],
   "source": [
    "loss2 = tf.losses.mean_squared_error(output_y2, output_layer2)\n",
    "train_op2 = tf.train.AdamOptimizer(1e-2).minimize(loss2)"
   ]
  },
  {
   "cell_type": "code",
   "execution_count": 53,
   "metadata": {},
   "outputs": [],
   "source": [
    "correct_pred2 = tf.equal(tf.argmax(output_layer2, 1), tf.argmax(output_y2, 1))\n",
    "accuracy2 = tf.reduce_mean(tf.cast(correct_pred2, tf.float32))"
   ]
  },
  {
   "cell_type": "code",
   "execution_count": 54,
   "metadata": {},
   "outputs": [],
   "source": [
    "sess = tf.Session()# control training and others"
   ]
  },
  {
   "cell_type": "code",
   "execution_count": 55,
   "metadata": {},
   "outputs": [],
   "source": [
    "sess.run(tf.global_variables_initializer())# initialize var in graph"
   ]
  },
  {
   "cell_type": "code",
   "execution_count": 56,
   "metadata": {},
   "outputs": [
    {
     "name": "stdout",
     "output_type": "stream",
     "text": [
      "Iteration 0 \t| Loss = 35.31541 \t| Accuracy = 0.114\n",
      "Iteration 100 \t| Loss = 4.479468 \t| Accuracy = 0.062\n",
      "Iteration 200 \t| Loss = 1.6605344 \t| Accuracy = 0.104\n",
      "Iteration 300 \t| Loss = 0.98394376 \t| Accuracy = 0.124\n",
      "Iteration 400 \t| Loss = 0.6686926 \t| Accuracy = 0.122\n",
      "Iteration 500 \t| Loss = 0.5292558 \t| Accuracy = 0.15\n",
      "Iteration 600 \t| Loss = 0.42096144 \t| Accuracy = 0.13\n",
      "Iteration 700 \t| Loss = 0.37357497 \t| Accuracy = 0.188\n",
      "Iteration 800 \t| Loss = 0.31969494 \t| Accuracy = 0.202\n",
      "Iteration 900 \t| Loss = 0.26628682 \t| Accuracy = 0.258\n",
      "Iteration 1000 \t| Loss = 0.2629933 \t| Accuracy = 0.25\n",
      "Iteration 1100 \t| Loss = 0.22833876 \t| Accuracy = 0.328\n",
      "Iteration 1200 \t| Loss = 0.20229013 \t| Accuracy = 0.324\n",
      "Iteration 1300 \t| Loss = 0.19135971 \t| Accuracy = 0.36\n",
      "Iteration 1400 \t| Loss = 0.17720513 \t| Accuracy = 0.37\n",
      "Iteration 1500 \t| Loss = 0.16605231 \t| Accuracy = 0.394\n",
      "Iteration 1600 \t| Loss = 0.14498018 \t| Accuracy = 0.442\n",
      "Iteration 1700 \t| Loss = 0.1386248 \t| Accuracy = 0.462\n",
      "Iteration 1800 \t| Loss = 0.13409893 \t| Accuracy = 0.458\n",
      "Iteration 1900 \t| Loss = 0.1250105 \t| Accuracy = 0.512\n",
      "Iteration 2000 \t| Loss = 0.116117306 \t| Accuracy = 0.5\n",
      "Iteration 2100 \t| Loss = 0.116401516 \t| Accuracy = 0.542\n",
      "Iteration 2200 \t| Loss = 0.11326692 \t| Accuracy = 0.524\n",
      "Iteration 2300 \t| Loss = 0.10583184 \t| Accuracy = 0.566\n",
      "Iteration 2400 \t| Loss = 0.101060905 \t| Accuracy = 0.554\n",
      "Iteration 2500 \t| Loss = 0.09794997 \t| Accuracy = 0.574\n",
      "Iteration 2600 \t| Loss = 0.09596495 \t| Accuracy = 0.612\n",
      "Iteration 2700 \t| Loss = 0.09164101 \t| Accuracy = 0.636\n",
      "Iteration 2800 \t| Loss = 0.085933805 \t| Accuracy = 0.644\n",
      "Iteration 2900 \t| Loss = 0.08669732 \t| Accuracy = 0.648\n",
      "Iteration 3000 \t| Loss = 0.08164243 \t| Accuracy = 0.656\n",
      "Iteration 3100 \t| Loss = 0.08158056 \t| Accuracy = 0.668\n",
      "Iteration 3200 \t| Loss = 0.07609806 \t| Accuracy = 0.704\n",
      "Iteration 3300 \t| Loss = 0.078429885 \t| Accuracy = 0.674\n",
      "Iteration 3400 \t| Loss = 0.07562328 \t| Accuracy = 0.656\n",
      "Iteration 3500 \t| Loss = 0.07095051 \t| Accuracy = 0.716\n",
      "Iteration 3600 \t| Loss = 0.071250156 \t| Accuracy = 0.692\n",
      "Iteration 3700 \t| Loss = 0.06870851 \t| Accuracy = 0.718\n",
      "Iteration 3800 \t| Loss = 0.068207495 \t| Accuracy = 0.694\n",
      "Iteration 3900 \t| Loss = 0.06784469 \t| Accuracy = 0.7\n",
      "Iteration 4000 \t| Loss = 0.06517559 \t| Accuracy = 0.748\n",
      "Iteration 4100 \t| Loss = 0.06364492 \t| Accuracy = 0.752\n",
      "Iteration 4200 \t| Loss = 0.06285779 \t| Accuracy = 0.728\n",
      "Iteration 4300 \t| Loss = 0.05889273 \t| Accuracy = 0.776\n",
      "Iteration 4400 \t| Loss = 0.05834807 \t| Accuracy = 0.774\n",
      "Iteration 4500 \t| Loss = 0.05732787 \t| Accuracy = 0.78\n",
      "Iteration 4600 \t| Loss = 0.056644566 \t| Accuracy = 0.8\n",
      "Iteration 4700 \t| Loss = 0.054015025 \t| Accuracy = 0.78\n",
      "Iteration 4800 \t| Loss = 0.05692601 \t| Accuracy = 0.788\n",
      "Iteration 4900 \t| Loss = 0.056212317 \t| Accuracy = 0.802\n",
      "Iteration 5000 \t| Loss = 0.052902795 \t| Accuracy = 0.782\n",
      "Iteration 5100 \t| Loss = 0.05997488 \t| Accuracy = 0.758\n",
      "Iteration 5200 \t| Loss = 0.0519156 \t| Accuracy = 0.822\n",
      "Iteration 5300 \t| Loss = 0.06636797 \t| Accuracy = 0.72\n",
      "Iteration 5400 \t| Loss = 0.052344453 \t| Accuracy = 0.802\n",
      "Iteration 5500 \t| Loss = 0.04980948 \t| Accuracy = 0.81\n",
      "Iteration 5600 \t| Loss = 0.06001516 \t| Accuracy = 0.78\n",
      "Iteration 5700 \t| Loss = 0.04784869 \t| Accuracy = 0.828\n",
      "Iteration 5800 \t| Loss = 0.05175242 \t| Accuracy = 0.804\n",
      "Iteration 5900 \t| Loss = 0.046871886 \t| Accuracy = 0.834\n",
      "Iteration 6000 \t| Loss = 0.05134162 \t| Accuracy = 0.81\n",
      "Iteration 6100 \t| Loss = 0.054680042 \t| Accuracy = 0.768\n",
      "Iteration 6200 \t| Loss = 0.049477596 \t| Accuracy = 0.82\n",
      "Iteration 6300 \t| Loss = 0.056346845 \t| Accuracy = 0.762\n",
      "Iteration 6400 \t| Loss = 0.04762513 \t| Accuracy = 0.788\n",
      "Iteration 6500 \t| Loss = 0.047800414 \t| Accuracy = 0.828\n",
      "Iteration 6600 \t| Loss = 0.049675975 \t| Accuracy = 0.826\n",
      "Iteration 6700 \t| Loss = 0.046891853 \t| Accuracy = 0.816\n",
      "Iteration 6800 \t| Loss = 0.04699942 \t| Accuracy = 0.84\n",
      "Iteration 6900 \t| Loss = 0.043977458 \t| Accuracy = 0.852\n",
      "Iteration 7000 \t| Loss = 0.046121947 \t| Accuracy = 0.852\n",
      "Iteration 7100 \t| Loss = 0.04737704 \t| Accuracy = 0.834\n",
      "Iteration 7200 \t| Loss = 0.047370512 \t| Accuracy = 0.818\n",
      "Iteration 7300 \t| Loss = 0.045940712 \t| Accuracy = 0.85\n",
      "Iteration 7400 \t| Loss = 0.04389516 \t| Accuracy = 0.85\n",
      "Iteration 7500 \t| Loss = 0.04571764 \t| Accuracy = 0.836\n",
      "Iteration 7600 \t| Loss = 0.046829354 \t| Accuracy = 0.828\n",
      "Iteration 7700 \t| Loss = 0.04147294 \t| Accuracy = 0.858\n",
      "Iteration 7800 \t| Loss = 0.043127157 \t| Accuracy = 0.828\n",
      "Iteration 7900 \t| Loss = 0.04790267 \t| Accuracy = 0.804\n",
      "Iteration 8000 \t| Loss = 0.04716513 \t| Accuracy = 0.798\n",
      "Iteration 8100 \t| Loss = 0.040556367 \t| Accuracy = 0.864\n",
      "Iteration 8200 \t| Loss = 0.042937342 \t| Accuracy = 0.84\n",
      "Iteration 8300 \t| Loss = 0.049636435 \t| Accuracy = 0.852\n",
      "Iteration 8400 \t| Loss = 0.04273782 \t| Accuracy = 0.842\n",
      "Iteration 8500 \t| Loss = 0.043202233 \t| Accuracy = 0.854\n",
      "Iteration 8600 \t| Loss = 0.042477846 \t| Accuracy = 0.836\n",
      "Iteration 8700 \t| Loss = 0.044147532 \t| Accuracy = 0.852\n",
      "Iteration 8800 \t| Loss = 0.042150564 \t| Accuracy = 0.856\n",
      "Iteration 8900 \t| Loss = 0.048222777 \t| Accuracy = 0.804\n",
      "Iteration 9000 \t| Loss = 0.043884482 \t| Accuracy = 0.844\n",
      "Iteration 9100 \t| Loss = 0.045183484 \t| Accuracy = 0.818\n",
      "Iteration 9200 \t| Loss = 0.046622016 \t| Accuracy = 0.848\n",
      "Iteration 9300 \t| Loss = 0.041323796 \t| Accuracy = 0.848\n",
      "Iteration 9400 \t| Loss = 0.04193604 \t| Accuracy = 0.84\n",
      "Iteration 9500 \t| Loss = 0.041923635 \t| Accuracy = 0.85\n",
      "Iteration 9600 \t| Loss = 0.04412377 \t| Accuracy = 0.824\n",
      "Iteration 9700 \t| Loss = 0.040839233 \t| Accuracy = 0.862\n",
      "Iteration 9800 \t| Loss = 0.04298137 \t| Accuracy = 0.846\n",
      "Iteration 9900 \t| Loss = 0.04061979 \t| Accuracy = 0.878\n"
     ]
    }
   ],
   "source": [
    "# train on mini batches\n",
    "import random as rd\n",
    "loss_list2=[]\n",
    "train_accuracy_list2 = []\n",
    "for i in range(10000):\n",
    "    batch_x2, batch_y2 = x.train.next_batch(500)\n",
    "    sess.run(train_op2, feed_dict={input_x2: batch_x2, output_y2: batch_y2, keep_prob2: 0.5})\n",
    "\n",
    "    # print loss and accuracy (per minibatch)\n",
    "    if i % 100 == 0:\n",
    "        minibatch_loss2, minibatch_accuracy2 = sess.run([loss2, accuracy2],feed_dict={input_x2: batch_x2, output_y2: batch_y2, keep_prob2: 1.0})\n",
    "        print(\"Iteration\",str(i),\"\\t| Loss =\",str(minibatch_loss2),\"\\t| Accuracy =\",str(minibatch_accuracy2))\n",
    "    loss_list2.append(float(minibatch_loss2))\n",
    "    train_accuracy_list2.append(float(minibatch_accuracy2))"
   ]
  },
  {
   "cell_type": "code",
   "execution_count": 57,
   "metadata": {},
   "outputs": [
    {
     "data": {
      "text/plain": [
       "[<matplotlib.lines.Line2D at 0x14dfe17209b0>]"
      ]
     },
     "execution_count": 57,
     "metadata": {},
     "output_type": "execute_result"
    },
    {
     "data": {
      "image/png": "[encoded data removed]",
      "text/plain": [
       "<Figure size 432x288 with 1 Axes>"
      ]
     },
     "metadata": {
      "needs_background": "light"
     },
     "output_type": "display_data"
    }
   ],
   "source": [
    "import matplotlib.pyplot as plt\n",
    "plt.plot(loss_list2)"
   ]
  },
  {
   "cell_type": "code",
   "execution_count": 58,
   "metadata": {},
   "outputs": [
    {
     "name": "stdout",
     "output_type": "stream",
     "text": [
      "\n",
      "Accuracy on test set: 0.8532\n"
     ]
    }
   ],
   "source": [
    "test_accuracy2 = sess.run(accuracy2, feed_dict={input_x2: x.test.images, output_y2: x.test.labels, keep_prob2: 1.0})\n",
    "print(\"\\nAccuracy on test set:\", test_accuracy2)"
   ]
  },
  {
   "cell_type": "code",
   "execution_count": 59,
   "metadata": {},
   "outputs": [
    {
     "data": {
      "text/plain": [
       "[<matplotlib.lines.Line2D at 0x14dfe1707518>]"
      ]
     },
     "execution_count": 59,
     "metadata": {},
     "output_type": "execute_result"
    },
    {
     "data": {
      "image/png": "[encoded data removed]",
      "text/plain": [
       "<Figure size 432x288 with 1 Axes>"
      ]
     },
     "metadata": {
      "needs_background": "light"
     },
     "output_type": "display_data"
    }
   ],
   "source": [
    "plt.plot(train_accuracy_list2)"
   ]
  },
  {
   "cell_type": "code",
   "execution_count": 60,
   "metadata": {},
   "outputs": [
    {
     "data": {
      "text/plain": [
       "[<matplotlib.lines.Line2D at 0x14dfe16548d0>]"
      ]
     },
     "execution_count": 60,
     "metadata": {},
     "output_type": "execute_result"
    },
    {
     "data": {
      "image/png": "[encoded data removed]",
      "text/plain": [
       "<Figure size 432x288 with 1 Axes>"
      ]
     },
     "metadata": {
      "needs_background": "light"
     },
     "output_type": "display_data"
    }
   ],
   "source": [
    "plt.plot(loss_list)\n",
    "plt.plot(loss_list1)\n",
    "plt.plot(loss_list2)"
   ]
  },
  {
   "cell_type": "code",
   "execution_count": 61,
   "metadata": {},
   "outputs": [
    {
     "data": {
      "text/plain": [
       "[<matplotlib.lines.Line2D at 0x14dfe1627748>]"
      ]
     },
     "execution_count": 61,
     "metadata": {},
     "output_type": "execute_result"
    },
    {
     "data": {
      "image/png": "[encoded data removed]",
      "text/plain": [
       "<Figure size 432x288 with 1 Axes>"
      ]
     },
     "metadata": {
      "needs_background": "light"
     },
     "output_type": "display_data"
    }
   ],
   "source": [
    "plt.plot(train_accuracy_list)\n",
    "plt.plot(train_accuracy_list1)\n",
    "plt.plot(train_accuracy_list2)"
   ]
  },
  {
   "cell_type": "code",
   "execution_count": null,
   "metadata": {},
   "outputs": [],
   "source": []
  }
 ],
 "metadata": {
  "kernelspec": {
   "display_name": "tensorflow",
   "language": "python",
   "name": "tensorflow"
  },
  "language_info": {
   "codemirror_mode": {
    "name": "ipython",
    "version": 3
   },
   "file_extension": ".py",
   "mimetype": "text/x-python",
   "name": "python",
   "nbconvert_exporter": "python",
   "pygments_lexer": "ipython3",
   "version": "3.6.2"
  }
 },
 "nbformat": 4,
 "nbformat_minor": 2
}
