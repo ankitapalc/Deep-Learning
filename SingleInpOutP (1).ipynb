{
  "nbformat": 4,
  "nbformat_minor": 0,
  "metadata": {
    "kernelspec": {
      "display_name": "tensorflow",
      "language": "python",
      "name": "tensorflow"
    },
    "language_info": {
      "codemirror_mode": {
        "name": "ipython",
        "version": 3
      },
      "file_extension": ".py",
      "mimetype": "text/x-python",
      "name": "python",
      "nbconvert_exporter": "python",
      "pygments_lexer": "ipython3",
      "version": "3.6.2"
    },
    "colab": {
      "name": "SingleInpOutP.ipynb",
      "provenance": [],
      "collapsed_sections": []
    }
  },
  "cells": [
    {
      "cell_type": "code",
      "metadata": {
        "id": "JbxhpIQZdWG3",
        "colab_type": "code",
        "colab": {
          "base_uri": "https://localhost:8080/",
          "height": 63
        },
        "outputId": "4cd241aa-af80-4bd9-ddca-a32530408ad0"
      },
      "source": [
        "import tensorflow as tf\n",
        "sess = tf.InteractiveSession()"
      ],
      "execution_count": 1,
      "outputs": [
        {
          "output_type": "display_data",
          "data": {
            "text/html": [
              "<p style=\"color: red;\">\n",
              "The default version of TensorFlow in Colab will soon switch to TensorFlow 2.x.<br>\n",
              "We recommend you <a href=\"https://www.tensorflow.org/guide/migrate\" target=\"_blank\">upgrade</a> now \n",
              "or ensure your notebook will continue to use TensorFlow 1.x via the <code>%tensorflow_version 1.x</code> magic:\n",
              "<a href=\"https://colab.research.google.com/notebooks/tensorflow_version.ipynb\" target=\"_blank\">more info</a>.</p>\n"
            ],
            "text/plain": [
              "<IPython.core.display.HTML object>"
            ]
          },
          "metadata": {
            "tags": []
          }
        }
      ]
    },
    {
      "cell_type": "code",
      "metadata": {
        "id": "OSM_iwJ8dWHG",
        "colab_type": "code",
        "colab": {}
      },
      "source": [
        "import numpy as np\n",
        "X =np.expand_dims(np.arange(0, 5, 0.01),1)\n",
        "Y =np.sqrt(X)\n",
        "x = tf.placeholder(tf.float64, [None,1], name='x')\n",
        "y = tf.placeholder(tf.float64, [None,1], name='y')"
      ],
      "execution_count": 0,
      "outputs": []
    },
    {
      "cell_type": "code",
      "metadata": {
        "id": "J4MpO-FOdWHN",
        "colab_type": "code",
        "colab": {
          "base_uri": "https://localhost:8080/",
          "height": 245
        },
        "outputId": "f0b84f2f-fb8c-4ddb-f166-32b7938ec8d3"
      },
      "source": [
        "input_layer = tf.layers.dense(x, 100, activation= tf.nn.sigmoid)\n",
        "hidden_layer = tf.layers.dropout(input_layer,0.3)\n",
        "output_layer = tf.layers.dense(hidden_layer,1)\n",
        "Loss =tf.losses.mean_squared_error(y , output_layer)\n",
        "Optimizer = tf.train.AdamOptimizer(learning_rate= 0.001).minimize(Loss)\n",
        "init = tf.global_variables_initializer()"
      ],
      "execution_count": 3,
      "outputs": [
        {
          "output_type": "stream",
          "text": [
            "WARNING:tensorflow:From <ipython-input-3-9667070c5ca9>:1: dense (from tensorflow.python.layers.core) is deprecated and will be removed in a future version.\n",
            "Instructions for updating:\n",
            "Use keras.layers.Dense instead.\n",
            "WARNING:tensorflow:From /usr/local/lib/python3.6/dist-packages/tensorflow_core/python/layers/core.py:187: Layer.apply (from tensorflow.python.keras.engine.base_layer) is deprecated and will be removed in a future version.\n",
            "Instructions for updating:\n",
            "Please use `layer.__call__` method instead.\n",
            "WARNING:tensorflow:From <ipython-input-3-9667070c5ca9>:2: dropout (from tensorflow.python.layers.core) is deprecated and will be removed in a future version.\n",
            "Instructions for updating:\n",
            "Use keras.layers.dropout instead.\n",
            "WARNING:tensorflow:From /usr/local/lib/python3.6/dist-packages/tensorflow_core/python/ops/losses/losses_impl.py:121: where (from tensorflow.python.ops.array_ops) is deprecated and will be removed in a future version.\n",
            "Instructions for updating:\n",
            "Use tf.where in 2.0, which has the same broadcast rule as np.where\n"
          ],
          "name": "stdout"
        }
      ]
    },
    {
      "cell_type": "code",
      "metadata": {
        "id": "NG4hMkK0dWHS",
        "colab_type": "code",
        "colab": {
          "base_uri": "https://localhost:8080/",
          "height": 242
        },
        "outputId": "3a21f905-e86d-476a-d28a-0f2bb11f03e0"
      },
      "source": [
        "total_parameters = 0\n",
        "for variable in tf.trainable_variables():\n",
        "    # shape is an array of tf.Dimension\n",
        "    print(variable)\n",
        "    shape = variable.get_shape()\n",
        "    print(shape)\n",
        "    #print(len(shape))\n",
        "    variable_parameters = 1\n",
        "    for dim in shape:\n",
        "        #print(dim)\n",
        "        variable_parameters *= dim.value\n",
        "    print(variable_parameters)\n",
        "    total_parameters += variable_parameters\n",
        "print(total_parameters)"
      ],
      "execution_count": 4,
      "outputs": [
        {
          "output_type": "stream",
          "text": [
            "<tf.Variable 'dense/kernel:0' shape=(1, 100) dtype=float64_ref>\n",
            "(1, 100)\n",
            "100\n",
            "<tf.Variable 'dense/bias:0' shape=(100,) dtype=float64_ref>\n",
            "(100,)\n",
            "100\n",
            "<tf.Variable 'dense_1/kernel:0' shape=(100, 1) dtype=float64_ref>\n",
            "(100, 1)\n",
            "100\n",
            "<tf.Variable 'dense_1/bias:0' shape=(1,) dtype=float64_ref>\n",
            "(1,)\n",
            "1\n",
            "301\n"
          ],
          "name": "stdout"
        }
      ]
    },
    {
      "cell_type": "code",
      "metadata": {
        "id": "CEN-6IOCdWHX",
        "colab_type": "code",
        "colab": {
          "base_uri": "https://localhost:8080/",
          "height": 54
        },
        "outputId": "eaef5a3b-9373-413c-dc03-08c4ede8fde7"
      },
      "source": [
        "loss_list=[]\n",
        "sess.run(init)\n",
        "for i in range(0,1000):\n",
        "  fd ={x:X, y:Y}\n",
        "  _, loss_val = sess.run([Optimizer, Loss], feed_dict=fd)\n",
        "  loss_list.append(loss_val)\n",
        "print ('loss last 50 = %s' % loss_list[950:])\n",
        "YP = sess.run(output_layer,feed_dict={x:X})"
      ],
      "execution_count": 5,
      "outputs": [
        {
          "output_type": "stream",
          "text": [
            "loss last 50 = [0.0073279645, 0.00732693, 0.0073258933, 0.007324857, 0.00732382, 0.0073227813, 0.007321741, 0.0073207007, 0.007319658, 0.007318615, 0.00731757, 0.0073165256, 0.0073154788, 0.0073144305, 0.0073133833, 0.0073123323, 0.007311281, 0.007310229, 0.0073091765, 0.007308122, 0.0073070666, 0.007306009, 0.0073049515, 0.0073038926, 0.0073028333, 0.007301771, 0.00730071, 0.0072996463, 0.007298582, 0.007297516, 0.007296449, 0.0072953817, 0.007294312, 0.007293243, 0.00729217, 0.0072910986, 0.0072900252, 0.0072889505, 0.0072878744, 0.0072867977, 0.0072857193, 0.0072846403, 0.007283561, 0.0072824783, 0.0072813956, 0.0072803125, 0.007279228, 0.007278141, 0.0072770533, 0.0072759655]\n"
          ],
          "name": "stdout"
        }
      ]
    },
    {
      "cell_type": "code",
      "metadata": {
        "id": "vsFm5lU0dWHb",
        "colab_type": "code",
        "colab": {
          "base_uri": "https://localhost:8080/",
          "height": 295
        },
        "outputId": "c45161e1-fec4-44af-9ace-7d20f401f164"
      },
      "source": [
        "# Plot training  loss values\n",
        "import matplotlib.pyplot as plt\n",
        "plt.plot(loss_list)\n",
        "plt.title('Model loss')\n",
        "plt.ylabel('Loss')\n",
        "plt.xlabel('Epoch')\n",
        "plt.show()"
      ],
      "execution_count": 6,
      "outputs": [
        {
          "output_type": "display_data",
          "data": {
            "image/png": "[encoded data removed]",
            "text/plain": [
              "<Figure size 432x288 with 1 Axes>"
            ]
          },
          "metadata": {
            "tags": []
          }
        }
      ]
    },
    {
      "cell_type": "code",
      "metadata": {
        "id": "lcADCQyMdWHf",
        "colab_type": "code",
        "colab": {
          "base_uri": "https://localhost:8080/",
          "height": 265
        },
        "outputId": "40615a49-9329-429c-f208-f4496c16f5b5"
      },
      "source": [
        "plt.plot(X,Y)\n",
        "plt.plot(X,YP)\n",
        "plt.show()"
      ],
      "execution_count": 7,
      "outputs": [
        {
          "output_type": "display_data",
          "data": {
            "image/png": "[encoded data removed]",
            "text/plain": [
              "<Figure size 432x288 with 1 Axes>"
            ]
          },
          "metadata": {
            "tags": []
          }
        }
      ]
    },
    {
      "cell_type": "code",
      "metadata": {
        "id": "ztqAcW9rdWHj",
        "colab_type": "code",
        "colab": {}
      },
      "source": [
        "import numpy as np\n",
        "X1 =np.expand_dims(np.arange(-5, 5, 0.01),1)\n",
        "Y1 =1/(1+np.exp(-X1))\n",
        "x = tf.placeholder(tf.float64, [None,1], name='x')\n",
        "y = tf.placeholder(tf.float64, [None,1], name='y')"
      ],
      "execution_count": 0,
      "outputs": []
    },
    {
      "cell_type": "code",
      "metadata": {
        "id": "AjnCyj6EdWHm",
        "colab_type": "code",
        "colab": {}
      },
      "source": [
        "input_layer = tf.layers.dense(x, 100, activation= tf.nn.relu)\n",
        "hidden_layer1 = tf.layers.dropout(input_layer,0.5)\n",
        "hidden_layer2 = tf.layers.dropout(hidden_layer1,0.5)\n",
        "output_layer = tf.layers.dense(hidden_layer2,1)\n",
        "Loss =tf.losses.mean_squared_error(y , output_layer)\n",
        "Optimizer = tf.train.AdamOptimizer(learning_rate= 0.005).minimize(Loss)\n",
        "init = tf.global_variables_initializer()"
      ],
      "execution_count": 0,
      "outputs": []
    },
    {
      "cell_type": "code",
      "metadata": {
        "id": "7hjOuDTddWHq",
        "colab_type": "code",
        "colab": {
          "base_uri": "https://localhost:8080/",
          "height": 450
        },
        "outputId": "d6571628-e13b-4ccf-9440-2b16e55d5940"
      },
      "source": [
        "total_parameters = 0\n",
        "variable_parameters = 0\n",
        "for variable in tf.trainable_variables():\n",
        "    # shape is an array of tf.Dimension\n",
        "    print(variable)\n",
        "    shape = variable.get_shape()\n",
        "    print(shape)\n",
        "    #print(len(shape))\n",
        "    variable_parameters = 1\n",
        "    for dim in shape:\n",
        "        #print(dim)\n",
        "        variable_parameters *= dim.value\n",
        "    print(variable_parameters)\n",
        "    total_parameters += variable_parameters\n",
        "print(total_parameters)"
      ],
      "execution_count": 10,
      "outputs": [
        {
          "output_type": "stream",
          "text": [
            "<tf.Variable 'dense/kernel:0' shape=(1, 100) dtype=float64_ref>\n",
            "(1, 100)\n",
            "100\n",
            "<tf.Variable 'dense/bias:0' shape=(100,) dtype=float64_ref>\n",
            "(100,)\n",
            "100\n",
            "<tf.Variable 'dense_1/kernel:0' shape=(100, 1) dtype=float64_ref>\n",
            "(100, 1)\n",
            "100\n",
            "<tf.Variable 'dense_1/bias:0' shape=(1,) dtype=float64_ref>\n",
            "(1,)\n",
            "1\n",
            "<tf.Variable 'dense_2/kernel:0' shape=(1, 100) dtype=float64_ref>\n",
            "(1, 100)\n",
            "100\n",
            "<tf.Variable 'dense_2/bias:0' shape=(100,) dtype=float64_ref>\n",
            "(100,)\n",
            "100\n",
            "<tf.Variable 'dense_3/kernel:0' shape=(100, 1) dtype=float64_ref>\n",
            "(100, 1)\n",
            "100\n",
            "<tf.Variable 'dense_3/bias:0' shape=(1,) dtype=float64_ref>\n",
            "(1,)\n",
            "1\n",
            "602\n"
          ],
          "name": "stdout"
        }
      ]
    },
    {
      "cell_type": "code",
      "metadata": {
        "id": "nPtYpj_ZdWHu",
        "colab_type": "code",
        "colab": {
          "base_uri": "https://localhost:8080/",
          "height": 54
        },
        "outputId": "c597691e-82b4-4bbf-c023-5e9cce20d818"
      },
      "source": [
        "loss_list1=[]\n",
        "sess.run(init)\n",
        "for i in range(0,1000):\n",
        "  fd ={x:X1, y:Y1}\n",
        "  _, loss_val1 = sess.run([Optimizer, Loss], feed_dict=fd)\n",
        "  loss_list1.append(loss_val1)\n",
        "print ('loss last 50 = %s' % loss_list1[950:])\n",
        "\n",
        "YP1 = sess.run(output_layer,feed_dict={x:X1})"
      ],
      "execution_count": 11,
      "outputs": [
        {
          "output_type": "stream",
          "text": [
            "loss last 50 = [1.6198113e-06, 1.6097905e-06, 1.6065687e-06, 1.6084556e-06, 1.6128437e-06, 1.6171355e-06, 1.619513e-06, 1.6190422e-06, 1.6156686e-06, 1.6099764e-06, 1.6028845e-06, 1.595346e-06, 1.5881583e-06, 1.5818493e-06, 1.5766846e-06, 1.5726906e-06, 1.5697268e-06, 1.5675814e-06, 1.5659872e-06, 1.5647269e-06, 1.5636364e-06, 1.5625969e-06, 1.5615443e-06, 1.5604573e-06, 1.5593488e-06, 1.5582638e-06, 1.5572622e-06, 1.5564337e-06, 1.5558873e-06, 1.5557521e-06, 1.5561626e-06, 1.5569041e-06, 1.5584775e-06, 1.5612284e-06, 1.5653555e-06, 1.5720586e-06, 1.5824642e-06, 1.5981913e-06, 1.6216705e-06, 1.656495e-06, 1.7082705e-06, 1.7857997e-06, 1.9026483e-06, 2.0802574e-06, 2.3525843e-06, 2.7742478e-06, 3.4329864e-06, 4.4717976e-06, 6.120889e-06, 8.760669e-06]\n"
          ],
          "name": "stdout"
        }
      ]
    },
    {
      "cell_type": "code",
      "metadata": {
        "id": "OfWDiQ_NdWHx",
        "colab_type": "code",
        "colab": {
          "base_uri": "https://localhost:8080/",
          "height": 295
        },
        "outputId": "fb760444-edc6-4247-f353-06e5583cd3e2"
      },
      "source": [
        "# Plot training  loss values\n",
        "import matplotlib.pyplot as plt\n",
        "plt.plot(loss_list1)\n",
        "plt.title('Model loss')\n",
        "plt.ylabel('Loss')\n",
        "plt.xlabel('Epoch')\n",
        "plt.show()"
      ],
      "execution_count": 12,
      "outputs": [
        {
          "output_type": "display_data",
          "data": {
            "image/png": "[encoded data removed]",
            "text/plain": [
              "<Figure size 432x288 with 1 Axes>"
            ]
          },
          "metadata": {
            "tags": []
          }
        }
      ]
    },
    {
      "cell_type": "code",
      "metadata": {
        "id": "h3YHxE3xdWHz",
        "colab_type": "code",
        "colab": {
          "base_uri": "https://localhost:8080/",
          "height": 265
        },
        "outputId": "1a5ab36b-0a10-40ea-bd15-09ccd58dbb43"
      },
      "source": [
        "plt.plot(X1,Y1)\n",
        "plt.plot(X1,YP1)\n",
        "plt.show()"
      ],
      "execution_count": 13,
      "outputs": [
        {
          "output_type": "display_data",
          "data": {
            "image/png": "[encoded data removed]",
            "text/plain": [
              "<Figure size 432x288 with 1 Axes>"
            ]
          },
          "metadata": {
            "tags": []
          }
        }
      ]
    },
    {
      "cell_type": "code",
      "metadata": {
        "id": "3vbZIcPZdWH4",
        "colab_type": "code",
        "colab": {
          "base_uri": "https://localhost:8080/",
          "height": 265
        },
        "outputId": "9cbce94e-20c8-4df4-8f63-681b7f0692b2"
      },
      "source": [
        "plt.plot(loss_list)\n",
        "plt.plot(loss_list1);"
      ],
      "execution_count": 14,
      "outputs": [
        {
          "output_type": "display_data",
          "data": {
            "image/png": "[encoded data removed]",
            "text/plain": [
              "<Figure size 432x288 with 1 Axes>"
            ]
          },
          "metadata": {
            "tags": []
          }
        }
      ]
    },
    {
      "cell_type": "code",
      "metadata": {
        "id": "s11pok4LdWH7",
        "colab_type": "code",
        "colab": {
          "base_uri": "https://localhost:8080/",
          "height": 265
        },
        "outputId": "264d306d-8eea-450f-81c2-4209670a4407"
      },
      "source": [
        "plt.plot(X,Y)\n",
        "plt.plot(X,YP)\n",
        "plt.plot(X1,Y1)\n",
        "plt.plot(X1,YP1);"
      ],
      "execution_count": 15,
      "outputs": [
        {
          "output_type": "display_data",
          "data": {
            "image/png": "[encoded data removed]",
            "text/plain": [
              "<Figure size 432x288 with 1 Axes>"
            ]
          },
          "metadata": {
            "tags": []
          }
        }
      ]
    },
    {
      "cell_type": "code",
      "metadata": {
        "id": "mIYpMOradWIC",
        "colab_type": "code",
        "colab": {}
      },
      "source": [
        "import numpy as np\n",
        "X11 =np.expand_dims(np.arange(-5, 5, 0.01),1)\n",
        "Y11 =1/(1+np.exp(-pow(X11,2)))\n",
        "x1 = tf.placeholder(tf.float64, [None,1], name='x1')\n",
        "y1 = tf.placeholder(tf.float64, [None,1], name='y1')"
      ],
      "execution_count": 0,
      "outputs": []
    },
    {
      "cell_type": "code",
      "metadata": {
        "id": "NJYaNXLsdfnv",
        "colab_type": "code",
        "colab": {}
      },
      "source": [
        "input_layer1 = tf.layers.dense(x1, 50, activation= tf.nn.relu)\n",
        "hidden_layer11 = tf.layers.dropout(input_layer1,0.5)\n",
        "hidden_layer21 = tf.layers.dropout(hidden_layer11,0.5)\n",
        "hidden_layer31 = tf.layers.dropout(hidden_layer21,0.5)\n",
        "output_layer1 = tf.layers.dense(hidden_layer31,1)\n",
        "Loss1 =tf.losses.mean_squared_error(y1 ,output_layer1)\n",
        "Optimizer1 = tf.train.AdamOptimizer(learning_rate= 0.005).minimize(Loss1)\n",
        "init1 = tf.global_variables_initializer()"
      ],
      "execution_count": 0,
      "outputs": []
    },
    {
      "cell_type": "code",
      "metadata": {
        "id": "nDH3LX2PdxdY",
        "colab_type": "code",
        "colab": {
          "base_uri": "https://localhost:8080/",
          "height": 658
        },
        "outputId": "a0383a02-bec1-4a2e-a764-1cd12ef9d3e3"
      },
      "source": [
        "total_parameters = 0\n",
        "variable_parameters = 0\n",
        "for variable in tf.trainable_variables():\n",
        "    # shape is an array of tf.Dimension\n",
        "    print(variable)\n",
        "    shape = variable.get_shape()\n",
        "    print(shape)\n",
        "    #print(len(shape))\n",
        "    variable_parameters = 1\n",
        "    for dim in shape:\n",
        "        #print(dim)\n",
        "        variable_parameters *= dim.value\n",
        "    print(variable_parameters)\n",
        "    total_parameters += variable_parameters\n",
        "print(total_parameters)"
      ],
      "execution_count": 18,
      "outputs": [
        {
          "output_type": "stream",
          "text": [
            "<tf.Variable 'dense/kernel:0' shape=(1, 100) dtype=float64_ref>\n",
            "(1, 100)\n",
            "100\n",
            "<tf.Variable 'dense/bias:0' shape=(100,) dtype=float64_ref>\n",
            "(100,)\n",
            "100\n",
            "<tf.Variable 'dense_1/kernel:0' shape=(100, 1) dtype=float64_ref>\n",
            "(100, 1)\n",
            "100\n",
            "<tf.Variable 'dense_1/bias:0' shape=(1,) dtype=float64_ref>\n",
            "(1,)\n",
            "1\n",
            "<tf.Variable 'dense_2/kernel:0' shape=(1, 100) dtype=float64_ref>\n",
            "(1, 100)\n",
            "100\n",
            "<tf.Variable 'dense_2/bias:0' shape=(100,) dtype=float64_ref>\n",
            "(100,)\n",
            "100\n",
            "<tf.Variable 'dense_3/kernel:0' shape=(100, 1) dtype=float64_ref>\n",
            "(100, 1)\n",
            "100\n",
            "<tf.Variable 'dense_3/bias:0' shape=(1,) dtype=float64_ref>\n",
            "(1,)\n",
            "1\n",
            "<tf.Variable 'dense_4/kernel:0' shape=(1, 50) dtype=float64_ref>\n",
            "(1, 50)\n",
            "50\n",
            "<tf.Variable 'dense_4/bias:0' shape=(50,) dtype=float64_ref>\n",
            "(50,)\n",
            "50\n",
            "<tf.Variable 'dense_5/kernel:0' shape=(50, 1) dtype=float64_ref>\n",
            "(50, 1)\n",
            "50\n",
            "<tf.Variable 'dense_5/bias:0' shape=(1,) dtype=float64_ref>\n",
            "(1,)\n",
            "1\n",
            "753\n"
          ],
          "name": "stdout"
        }
      ]
    },
    {
      "cell_type": "code",
      "metadata": {
        "id": "ONdl2lmNdyqu",
        "colab_type": "code",
        "colab": {
          "base_uri": "https://localhost:8080/",
          "height": 54
        },
        "outputId": "af5b7a7e-1258-4f35-a9a4-12e120d9cc33"
      },
      "source": [
        "loss_list11=[]\n",
        "sess.run(init1)\n",
        "for i in range(0,1000):\n",
        "  fd ={x1:X1, y1:Y1}\n",
        "  _, loss_val11 = sess.run([Optimizer1, Loss1], feed_dict=fd)\n",
        "  loss_list11.append(loss_val11)\n",
        "print ('loss last 50 = %s' % loss_list11[950:])\n",
        "\n",
        "YP11 = sess.run(output_layer1,feed_dict={x1:X11})"
      ],
      "execution_count": 19,
      "outputs": [
        {
          "output_type": "stream",
          "text": [
            "loss last 50 = [3.4768396e-05, 3.4664816e-05, 3.4561745e-05, 3.445919e-05, 3.435715e-05, 3.4255616e-05, 3.4154757e-05, 3.4054476e-05, 3.3954704e-05, 3.385543e-05, 3.375669e-05, 3.3658034e-05, 3.355956e-05, 3.3461372e-05, 3.3363453e-05, 3.3265926e-05, 3.316881e-05, 3.3071876e-05, 3.2975324e-05, 3.2878565e-05, 3.2782e-05, 3.268586e-05, 3.259008e-05, 3.2494856e-05, 3.240005e-05, 3.230569e-05, 3.2211763e-05, 3.2117718e-05, 3.2023974e-05, 3.193063e-05, 3.1837677e-05, 3.1745123e-05, 3.1652995e-05, 3.1561285e-05, 3.147001e-05, 3.1379113e-05, 3.1288633e-05, 3.1198608e-05, 3.1108997e-05, 3.101978e-05, 3.0931005e-05, 3.0842817e-05, 3.0755e-05, 3.0667074e-05, 3.057958e-05, 3.0492503e-05, 3.0405681e-05, 3.031906e-05, 3.0232779e-05, 3.01469e-05]\n"
          ],
          "name": "stdout"
        }
      ]
    },
    {
      "cell_type": "code",
      "metadata": {
        "id": "mHTepFh5d3h2",
        "colab_type": "code",
        "colab": {
          "base_uri": "https://localhost:8080/",
          "height": 295
        },
        "outputId": "fc33ccd4-66fd-401c-a697-0376a37bc434"
      },
      "source": [
        "# Plot training  loss values\n",
        "import matplotlib.pyplot as plt\n",
        "plt.plot(loss_list11)\n",
        "plt.title('Model loss')\n",
        "plt.ylabel('Loss')\n",
        "plt.xlabel('Epoch')\n",
        "plt.show()"
      ],
      "execution_count": 20,
      "outputs": [
        {
          "output_type": "display_data",
          "data": {
            "image/png": "[encoded data removed]",
            "text/plain": [
              "<Figure size 432x288 with 1 Axes>"
            ]
          },
          "metadata": {
            "tags": []
          }
        }
      ]
    },
    {
      "cell_type": "code",
      "metadata": {
        "id": "a_YZFypcd9F_",
        "colab_type": "code",
        "colab": {
          "base_uri": "https://localhost:8080/",
          "height": 265
        },
        "outputId": "92ea61be-b341-4cea-f465-38de89da4fe9"
      },
      "source": [
        "plt.plot(X11,Y11)\n",
        "plt.plot(X11,YP11)\n",
        "plt.show()"
      ],
      "execution_count": 25,
      "outputs": [
        {
          "output_type": "display_data",
          "data": {
            "image/png": "[encoded data removed]",
            "text/plain": [
              "<Figure size 432x288 with 1 Axes>"
            ]
          },
          "metadata": {
            "tags": []
          }
        }
      ]
    },
    {
      "cell_type": "code",
      "metadata": {
        "id": "cQNpAoryeAfs",
        "colab_type": "code",
        "colab": {
          "base_uri": "https://localhost:8080/",
          "height": 295
        },
        "outputId": "bc8bab29-22a0-4aa8-ac1b-b53c5abc785e"
      },
      "source": [
        "plt.plot(loss_list,label = 'Model 1')\n",
        "plt.plot(loss_list1,label = 'Model 2')\n",
        "plt.plot(loss_list11,label = 'Model 3')\n",
        "plt.ylim([0,0.6])\n",
        "plt.title('Model loss')\n",
        "plt.ylabel('Loss')\n",
        "plt.xlabel('Epoch')\n",
        "plt.legend();"
      ],
      "execution_count": 22,
      "outputs": [
        {
          "output_type": "display_data",
          "data": {
            "image/png": "[encoded data removed]",
            "text/plain": [
              "<Figure size 432x288 with 1 Axes>"
            ]
          },
          "metadata": {
            "tags": []
          }
        }
      ]
    },
    {
      "cell_type": "code",
      "metadata": {
        "id": "_DfD4-V6eE9a",
        "colab_type": "code",
        "colab": {
          "base_uri": "https://localhost:8080/",
          "height": 265
        },
        "outputId": "091a12fe-9f60-47d6-9154-05adae02ec2b"
      },
      "source": [
        "plt.plot(X,Y,label = 'Model 1 ground Truth')\n",
        "plt.plot(X,YP,label = 'Model 1 prediction function')\n",
        "plt.plot(X1,Y1,label = 'Model 2 ground Truth')\n",
        "plt.plot(X1,YP1,label = 'Model 2 prediction function')\n",
        "plt.plot(X11,YP11,label = 'Model 3 ground Truth')\n",
        "plt.plot(X11,YP11,label = 'Model 3 prediction function')\n",
        "plt.legend();"
      ],
      "execution_count": 26,
      "outputs": [
        {
          "output_type": "display_data",
          "data": {
            "image/png": "[encoded data removed]",
            "text/plain": [
              "<Figure size 432x288 with 1 Axes>"
            ]
          },
          "metadata": {
            "tags": []
          }
        }
      ]
    },
    {
      "cell_type": "code",
      "metadata": {
        "id": "mhKHAPyeeIvN",
        "colab_type": "code",
        "colab": {}
      },
      "source": [
        ""
      ],
      "execution_count": 0,
      "outputs": []
    }
  ]
}